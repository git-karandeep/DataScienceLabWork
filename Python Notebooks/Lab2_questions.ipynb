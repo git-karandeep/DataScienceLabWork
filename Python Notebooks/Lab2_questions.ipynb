{
  "nbformat": 4,
  "nbformat_minor": 0,
  "metadata": {
    "@webio": {
      "lastCommId": null,
      "lastKernelId": null
    },
    "colab": {
      "name": "Lab2_questions.ipynb",
      "provenance": []
    },
    "kernelspec": {
      "display_name": "Python 3",
      "language": "python",
      "name": "python3"
    },
    "language_info": {
      "codemirror_mode": {
        "name": "ipython",
        "version": 3
      },
      "file_extension": ".py",
      "mimetype": "text/x-python",
      "name": "python",
      "nbconvert_exporter": "python",
      "pygments_lexer": "ipython3",
      "version": "3.5.0"
    }
  },
  "cells": [
    {
      "cell_type": "markdown",
      "metadata": {
        "id": "ZQ-tHjsZ7uCa"
      },
      "source": [
        "# Lab 2 Exercises"
      ]
    },
    {
      "cell_type": "markdown",
      "metadata": {
        "id": "hBo8IlASEJ9r"
      },
      "source": [
        "$\\color{red}{\\text{RULES:}}$\n",
        "\n",
        "1) Work individually! \n",
        "\n",
        "2) You can use the lecture notes (that are posted on D2L) and all other materials (e.g. books, web searches).\n",
        "\n"
      ]
    },
    {
      "cell_type": "markdown",
      "metadata": {
        "id": "miOhrnrV7uCc"
      },
      "source": [
        "### Question 1"
      ]
    },
    {
      "cell_type": "markdown",
      "metadata": {
        "id": "t9z_3Lgz7uCe"
      },
      "source": [
        "Provide a python program that takes 2 digits, (e.g. A,B) as input and returns a 2-dimensional array. The element value in the i-th row and j-th column of the array should be $i*j$.\n",
        "\n",
        "Note: $i=0,1,...,A-1;\\ j=0,1,...,B-1.$\n",
        "\n",
        "Example: Assume following inputs are given to the program:\n",
        "\n",
        "$3,5$\n",
        "\n",
        "Then, the output should be:\n",
        "\n",
        "$[[0, 0, 0, 0, 0], [0, 1, 2, 3, 4], [0, 2, 4, 6, 8]]$"
      ]
    },
    {
      "cell_type": "code",
      "metadata": {
        "id": "YtXXEMOA7uCg"
      },
      "source": [
        ""
      ],
      "execution_count": null,
      "outputs": []
    },
    {
      "cell_type": "markdown",
      "metadata": {
        "id": "yK-nfqXfEJ9v"
      },
      "source": [
        "### Question 2"
      ]
    },
    {
      "cell_type": "markdown",
      "metadata": {
        "id": "IkK4nTXiEJ9v"
      },
      "source": [
        "Given a dictionary, provide a python program that gets all the values from the dictionary and add it in a list but does not  add duplicates."
      ]
    },
    {
      "cell_type": "code",
      "metadata": {
        "id": "PPa61r-2EJ9w"
      },
      "source": [
        "ages  ={'john':47, 'faye':52, 'mark':47, 'april':44, 'may':52, 'jane':53, 'july':54, 'jim':44, 'sam':54}\n",
        "# expected return value [53, 47, 54, 52, 44]\n"
      ],
      "execution_count": null,
      "outputs": []
    },
    {
      "cell_type": "markdown",
      "metadata": {
        "id": "PucSRqlCEJ9w"
      },
      "source": [
        "### Question 3"
      ]
    },
    {
      "cell_type": "markdown",
      "metadata": {
        "id": "5Xv2Bqe1EJ9x"
      },
      "source": [
        "Provide a function which can generate and print a tuple where the printed values are squares of numbers between provided two (integer) argument values (both included).\n",
        "\n",
        "E.g. output of printTuple(1,10) would be (1, 4, 9, 16, 25, 36, 49, 64, 81,100)\n",
        "\n",
        "Hint: \n",
        "\n",
        "Use tuple() to get a tuple from a list."
      ]
    },
    {
      "cell_type": "code",
      "metadata": {
        "id": "L1_UjE0vEJ9y"
      },
      "source": [
        "def printTuple(giLB, giUB):\n",
        "    # write your code here\n",
        "\n",
        "printTuple(1,10)"
      ],
      "execution_count": null,
      "outputs": []
    },
    {
      "cell_type": "markdown",
      "metadata": {
        "id": "raAFHc68EJ9y"
      },
      "source": [
        "### Question 4 (Bonus)"
      ]
    },
    {
      "cell_type": "markdown",
      "metadata": {
        "id": "qE6qCYY6EJ91"
      },
      "source": [
        "A robot moves in a plane starting from the original point (0,0). The robot can move toward UP, DOWN, LEFT and RIGHT with a given steps. The trace of robot movement is shown as the following list: \n",
        "\n",
        "my_moves = [\"UP 5\", \"DOWN 3\", \"LEFT 3\", \"RIGHT 2\"]\n",
        "\n",
        "Another trace can be\n",
        "\n",
        "my_moves = [\"LEFT 2\", \"UP 3\", \"DOWN 3\", \"LEFT 2\", \"DOWN 5\"]\n",
        "\n",
        "The numbers after the direction are steps. Provide a function with name get_distance_traveled that takes the list of movements as an argument and returns the distance from current position after a sequence of movements.\n",
        "\n",
        "Hint: print(get_distance_traveled(my_moves)) prints out 2.24"
      ]
    },
    {
      "cell_type": "code",
      "metadata": {
        "id": "eh6PHNQ6EJ92"
      },
      "source": [
        ""
      ],
      "execution_count": null,
      "outputs": []
    }
  ]
}