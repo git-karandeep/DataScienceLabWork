{
  "nbformat": 4,
  "nbformat_minor": 0,
  "metadata": {
    "@webio": {
      "lastCommId": null,
      "lastKernelId": null
    },
    "colab": {
      "name": "Lab1_questions.ipynb",
      "provenance": []
    },
    "kernelspec": {
      "display_name": "Python 3",
      "language": "python",
      "name": "python3"
    },
    "language_info": {
      "codemirror_mode": {
        "name": "ipython",
        "version": 3
      },
      "file_extension": ".py",
      "mimetype": "text/x-python",
      "name": "python",
      "nbconvert_exporter": "python",
      "pygments_lexer": "ipython3",
      "version": "3.7.4"
    }
  },
  "cells": [
    {
      "cell_type": "markdown",
      "metadata": {
        "id": "luWJ8fYv7cis"
      },
      "source": [
        "# Lab1 exercises"
      ]
    },
    {
      "cell_type": "markdown",
      "metadata": {
        "id": "I5GdmKmm7ciu"
      },
      "source": [
        "$\\color{red}{\\text{RULES:}}$\n",
        "\n",
        "1) Work individually!\n",
        "\n",
        "2) You can use the lecture notes.\n",
        "\n"
      ]
    },
    {
      "cell_type": "markdown",
      "metadata": {
        "id": "aF1lFwhL7civ"
      },
      "source": [
        "### Question 1"
      ]
    },
    {
      "cell_type": "markdown",
      "metadata": {
        "id": "xzHz73Q-7cix"
      },
      "source": [
        "Provide python codes that will find all numbers which are divisible by 7 but not multiple of 5,\n",
        "between 1000 and 1200 (both included).\n",
        "Obtained numbers should be printed in a comma-separated sequence on a single line.\n",
        "\n",
        "Hints: \n",
        "range(#begin, #end) method might be useful"
      ]
    },
    {
      "cell_type": "code",
      "metadata": {
        "id": "62xOu9y-7ciy"
      },
      "source": [
        ""
      ],
      "execution_count": null,
      "outputs": []
    },
    {
      "cell_type": "markdown",
      "metadata": {
        "id": "n3fMm6JO7ci2"
      },
      "source": [
        "### Question 2"
      ]
    },
    {
      "cell_type": "markdown",
      "metadata": {
        "id": "2Mew8fgA7ci3"
      },
      "source": [
        "Provide python codes that calculates and prints the value according to the given formula:\n",
        "\n",
        "Q = Square root of [(2 * C * D)/H]\n",
        "\n",
        "Following are the fixed values of C and H:\n",
        "\n",
        "C is 50. H is 30.\n",
        "\n",
        "D is the variable whose values should be input to your program in a comma-separated sequence.\n",
        "\n",
        "Example: Assume the following comma separated sequence is inputed to the program:\n",
        "\n",
        "100,150,180\n",
        "\n",
        "The output should be:\n",
        "\n",
        "18,22,24\n",
        "\n",
        "Hints:\n",
        "If the output received is in decimal form, it should be rounded off to its nearest value (for example, if the output received is 26.0, it should be printed as 26)\n",
        "\n",
        "In case of input data being supplied to the question, it should be assumed to be a console input. "
      ]
    },
    {
      "cell_type": "code",
      "metadata": {
        "id": "qVBQoQ9V7ci4"
      },
      "source": [
        "# you can use math library for math.sqrt() function\n",
        "# import math\n",
        "\n",
        "# for a given list \"myList\" print(','.join(myList)) prints out the values in myList in comma-separated manner"
      ],
      "execution_count": null,
      "outputs": []
    },
    {
      "cell_type": "markdown",
      "metadata": {
        "id": "jdbH5CBs7ci8"
      },
      "source": [
        "### Question 3"
      ]
    },
    {
      "cell_type": "markdown",
      "metadata": {
        "id": "ZhAVsf267ci9"
      },
      "source": [
        "Provide python codes that will find all the numbers between 1000 and 3000 such that each digit of the number is an even number.\n",
        "The obtained numbers should be printed in a comma-separated sequence on a single line.\n",
        "\n",
        "In case of input data being supplied to the question, it should be assumed to be a console input."
      ]
    },
    {
      "cell_type": "code",
      "metadata": {
        "id": "F5inedMz7ci-"
      },
      "source": [
        "# for a given list \"myList\" print(','.join(myList)) prints out the values in myList in comma-separated manner"
      ],
      "execution_count": null,
      "outputs": []
    },
    {
      "cell_type": "markdown",
      "metadata": {
        "id": "wVcMRNN_7cjB"
      },
      "source": [
        "### Question 4"
      ]
    },
    {
      "cell_type": "markdown",
      "metadata": {
        "id": "VOI5Mfpl7cjC"
      },
      "source": [
        "Provide python codes that accepts a string from console and print the characters that have even indexes.\n",
        "\n",
        "Example:\n",
        "If the following string is given as input to the program:\n",
        "\n",
        "H0e1l4l2o8w9o9r8l9d\n",
        "\n",
        "Then, the output should be:\n",
        "\n",
        "Helloworld\n",
        "\n",
        "Hints:\n",
        "Use list[::2] to iterate a list by step 2."
      ]
    },
    {
      "cell_type": "code",
      "metadata": {
        "id": "tsOMVy1y7cjE"
      },
      "source": [
        ""
      ],
      "execution_count": null,
      "outputs": []
    }
  ]
}