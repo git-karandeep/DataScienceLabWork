{
  "nbformat": 4,
  "nbformat_minor": 0,
  "metadata": {
    "colab": {
      "name": "Lab1_solutions (3).ipynb",
      "provenance": []
    },
    "kernelspec": {
      "display_name": "Python 3",
      "language": "python",
      "name": "python3"
    },
    "language_info": {
      "codemirror_mode": {
        "name": "ipython",
        "version": 3
      },
      "file_extension": ".py",
      "mimetype": "text/x-python",
      "name": "python",
      "nbconvert_exporter": "python",
      "pygments_lexer": "ipython3",
      "version": "3.7.4"
    }
  },
  "cells": [
    {
      "cell_type": "markdown",
      "metadata": {
        "id": "ZQ-tHjsZ7uCa"
      },
      "source": [
        "# Lec1_pyFundamentals exercises"
      ]
    },
    {
      "cell_type": "markdown",
      "metadata": {
        "id": "miOhrnrV7uCc"
      },
      "source": [
        "### Question 1 (Level: easy)"
      ]
    },
    {
      "cell_type": "markdown",
      "metadata": {
        "id": "t9z_3Lgz7uCe"
      },
      "source": [
        "Write a program which will find all such numbers which are divisible by 7 but are not a multiple of 5,\n",
        "between 1000 and 1200 (both included).\n",
        "The numbers obtained should be printed in a comma-separated sequence on a single line.\n",
        "\n",
        "Hints: \n",
        "Consider use range(#begin, #end) method"
      ]
    },
    {
      "cell_type": "code",
      "metadata": {
        "colab": {
          "base_uri": "https://localhost:8080/",
          "height": 35
        },
        "id": "YtXXEMOA7uCg",
        "outputId": "051bed72-5638-42db-fb46-f463340d845f"
      },
      "source": [
        "l=[]\n",
        "for i in range(1000, 1201):\n",
        "    if (i%7==0) and (i%5!=0):\n",
        "        l.append(str(i))\n",
        "\n",
        "print(','.join(l))"
      ],
      "execution_count": null,
      "outputs": [
        {
          "output_type": "stream",
          "text": [
            "1001,1008,1022,1029,1036,1043,1057,1064,1071,1078,1092,1099,1106,1113,1127,1134,1141,1148,1162,1169,1176,1183,1197\n"
          ],
          "name": "stdout"
        }
      ]
    },
    {
      "cell_type": "markdown",
      "metadata": {
        "id": "qKunWvAM7uCn"
      },
      "source": [
        "### Question 2 (Level: moderate)"
      ]
    },
    {
      "cell_type": "markdown",
      "metadata": {
        "id": "YpcYIlHs7uCp"
      },
      "source": [
        "Write a program that calculates and prints the value according to the given formula:\n",
        "\n",
        "Q = Square root of [(2 * C * D)/H]\n",
        "\n",
        "Following are the fixed values of C and H:\n",
        "\n",
        "C is 50. H is 30.\n",
        "\n",
        "D is the variable whose values should be input to your program in a comma-separated sequence.\n",
        "\n",
        "Example: Let us assume the following comma separated input sequence is given to the program:\n",
        "\n",
        "100,150,180\n",
        "\n",
        "The output of the program should be:\n",
        "\n",
        "18,22,24\n",
        "\n",
        "Hints:\n",
        "If the output received is in decimal form, it should be rounded off to its nearest value (for example, if the output received is 26.0, it should be printed as 26)\n",
        "\n",
        "In case of input data being supplied to the question, it should be assumed to be a console input. "
      ]
    },
    {
      "cell_type": "code",
      "metadata": {
        "colab": {
          "base_uri": "https://localhost:8080/",
          "height": 53
        },
        "id": "ZqYMWlvt7uCq",
        "outputId": "6a9da63d-acbf-431b-a179-e7215f78c144"
      },
      "source": [
        "import math\n",
        "\n",
        "c=50\n",
        "h=30\n",
        "\n",
        "d_vector = input(\"Enter your comma-separated sequence: \") \n",
        "\n",
        "items=[x for x in d_vector.split(',')]\n",
        "\n",
        "value = []\n",
        "for d in items:\n",
        "    t_dVal = int(round(math.sqrt(2*c*float(d)/h)))\n",
        "    value.append(str(t_dVal))\n",
        "\n",
        "print(','.join(value))"
      ],
      "execution_count": null,
      "outputs": [
        {
          "output_type": "stream",
          "text": [
            "Enter your comma-separated sequence: 100,150,180\n",
            "18,22,24\n"
          ],
          "name": "stdout"
        }
      ]
    },
    {
      "cell_type": "markdown",
      "metadata": {
        "id": "48Nt37BN7uCu"
      },
      "source": [
        "### Question 3 (Level: moderate)"
      ]
    },
    {
      "cell_type": "markdown",
      "metadata": {
        "id": "5qxgtxu77uCv"
      },
      "source": [
        "Write a program, which will find all such numbers between 1000 and 3000 (both included) such that each digit of the number is an even number.\n",
        "The numbers obtained should be printed in a comma-separated sequence on a single line.\n",
        "\n",
        "Hints:\n",
        "In case of input data being supplied to the question, it should be assumed to be a console input."
      ]
    },
    {
      "cell_type": "code",
      "metadata": {
        "id": "kJ1w1Scl7uCw",
        "outputId": "d89157c2-8d7a-4cc7-adec-2f32347ad024"
      },
      "source": [
        "values = []\n",
        "for i in range(1000, 3001):\n",
        "    s = str(i)\n",
        "    if (int(s[0])%2==0) and (int(s[1])%2==0) and (int(s[2])%2==0) and (int(s[3])%2==0):\n",
        "        values.append(s)\n",
        "\n",
        "print(\",\".join(values))"
      ],
      "execution_count": null,
      "outputs": [
        {
          "output_type": "stream",
          "text": [
            "2000,2002,2004,2006,2008,2020,2022,2024,2026,2028,2040,2042,2044,2046,2048,2060,2062,2064,2066,2068,2080,2082,2084,2086,2088,2200,2202,2204,2206,2208,2220,2222,2224,2226,2228,2240,2242,2244,2246,2248,2260,2262,2264,2266,2268,2280,2282,2284,2286,2288,2400,2402,2404,2406,2408,2420,2422,2424,2426,2428,2440,2442,2444,2446,2448,2460,2462,2464,2466,2468,2480,2482,2484,2486,2488,2600,2602,2604,2606,2608,2620,2622,2624,2626,2628,2640,2642,2644,2646,2648,2660,2662,2664,2666,2668,2680,2682,2684,2686,2688,2800,2802,2804,2806,2808,2820,2822,2824,2826,2828,2840,2842,2844,2846,2848,2860,2862,2864,2866,2868,2880,2882,2884,2886,2888\n"
          ],
          "name": "stdout"
        }
      ]
    },
    {
      "cell_type": "markdown",
      "metadata": {
        "id": "7MeYZUxk7uC0"
      },
      "source": [
        "### Question 4(Level:moderate)"
      ]
    },
    {
      "cell_type": "markdown",
      "metadata": {
        "id": "NLl5Jy5G7uC1"
      },
      "source": [
        "Please write a program which accepts a string from console and print the characters that have even indexes.\n",
        "\n",
        "Example:\n",
        "If the following string is given as input to the program:\n",
        "\n",
        "H1e2l3l4o5w6o7r8l9d\n",
        "\n",
        "Then, the output of the program should be:\n",
        "\n",
        "Helloworld\n",
        "\n",
        "Hints:\n",
        "Use list[::2] to iterate a list by step 2."
      ]
    },
    {
      "cell_type": "code",
      "metadata": {
        "colab": {
          "base_uri": "https://localhost:8080/",
          "height": 53
        },
        "id": "z9zRYxrI7uC2",
        "outputId": "2dc14639-5af2-4cde-c6f0-fd8a2c4a8c41"
      },
      "source": [
        "s = input()\n",
        "s = s[::2]\n",
        "print(s)"
      ],
      "execution_count": null,
      "outputs": [
        {
          "output_type": "stream",
          "text": [
            "H1e2l3l4o5w6o7r8l9d\n",
            "Helloworld\n"
          ],
          "name": "stdout"
        }
      ]
    },
    {
      "cell_type": "code",
      "metadata": {
        "id": "Iq5ci2v57uC5"
      },
      "source": [
        ""
      ],
      "execution_count": null,
      "outputs": []
    }
  ]
}