{
  "cells": [
    {
      "cell_type": "markdown",
      "metadata": {
        "id": "ZQ-tHjsZ7uCa"
      },
      "source": [
        "# Lab 3 Exercises"
      ]
    },
    {
      "cell_type": "markdown",
      "metadata": {
        "id": "Zkk2MQhyOmk4"
      },
      "source": [
        "$\\color{red}{\\text{RULES:}}$\n",
        "\n",
        "1) Work individually! \n",
        "\n",
        "2) You can use the lecture notes (that are posted on D2L), and other materials (e.g. books, web searches).\n",
        "\n"
      ]
    },
    {
      "cell_type": "markdown",
      "metadata": {
        "id": "miOhrnrV7uCc"
      },
      "source": [
        "### Question 1"
      ]
    },
    {
      "cell_type": "markdown",
      "metadata": {
        "id": "t9z_3Lgz7uCe"
      },
      "source": [
        "Write a python function that can accept two strings as input and print the string with maximum length in console. If the length of the two strings are identical, then function should print all strings line by line.\n",
        "\n",
        "Hints:\n",
        "\n",
        "Length of a string can be obtained by len() function"
      ]
    },
    {
      "cell_type": "code",
      "execution_count": null,
      "metadata": {
        "id": "YtXXEMOA7uCg"
      },
      "outputs": [],
      "source": []
    },
    {
      "cell_type": "markdown",
      "metadata": {
        "id": "udYlFKk9Omk6"
      },
      "source": [
        "### Question 2"
      ]
    },
    {
      "cell_type": "markdown",
      "metadata": {
        "id": "bpWzhuloOmk7"
      },
      "source": [
        "Write a python function that can generate a list where the values are square of numbers between 1 and 30 (both included). The function then has to print the first 5 elements in the list.\n",
        "\n",
        "Hints:\n",
        "\n",
        "** operator can be used to get power of a number.\n",
        "\n",
        "range() can be used for loops.\n",
        "\n",
        "append() can be used to add values into a list.\n",
        "\n",
        "[n1:n2] can be used to slice a list"
      ]
    },
    {
      "cell_type": "code",
      "execution_count": null,
      "metadata": {
        "id": "iS7GEB9hOmk7"
      },
      "outputs": [],
      "source": []
    },
    {
      "cell_type": "markdown",
      "metadata": {
        "id": "MGl1POECOmk7"
      },
      "source": [
        "### Question 3"
      ]
    },
    {
      "cell_type": "markdown",
      "metadata": {
        "id": "M0sER_TvOmk8"
      },
      "source": [
        "Write a python program that can map() and filter() to make a list whose elements are square of even number in [1,2,3,4,5,6,7,8,9,10,11,12].\n",
        "\n",
        "Hints:\n",
        "\n",
        "map() can be used to generate a list.\n",
        "\n",
        "filter() can be used to filter elements of a list.\n",
        "\n",
        "Use lambda to define anonymous functions."
      ]
    },
    {
      "cell_type": "code",
      "execution_count": null,
      "metadata": {
        "id": "15B0O7tqOmk8"
      },
      "outputs": [],
      "source": []
    },
    {
      "cell_type": "markdown",
      "metadata": {
        "id": "d8mE6WmWOmk8"
      },
      "source": [
        "### Question 4 (Bonus)"
      ]
    },
    {
      "cell_type": "markdown",
      "metadata": {
        "id": "-ulPviGXOmk8"
      },
      "source": [
        "Write a python program to compute:\n",
        "\n",
        "f(n)=f(n-1)+100 when n>0\n",
        "\n",
        "and f(0)=0\n",
        "\n",
        "with a given n input by console (n>0).\n",
        "\n",
        "Example:\n",
        "If the following n is given as input to the program:\n",
        "\n",
        "5\n",
        "\n",
        "Then, the output of the program should be:\n",
        "\n",
        "500\n",
        "\n",
        "In case of input data being supplied to the question, it should be assumed to be a console input.\n",
        "\n",
        "Hints:\n",
        "You need to define a recursive function in Python."
      ]
    },
    {
      "cell_type": "code",
      "execution_count": null,
      "metadata": {
        "id": "pK2sCcqqOmk9"
      },
      "outputs": [],
      "source": []
    }
  ],
  "metadata": {
    "@webio": {
      "lastCommId": null,
      "lastKernelId": null
    },
    "colab": {
      "name": "Lab3_questions.ipynb",
      "provenance": []
    },
    "kernelspec": {
      "display_name": "Python 3",
      "language": "python",
      "name": "python3"
    },
    "language_info": {
      "codemirror_mode": {
        "name": "ipython",
        "version": 3
      },
      "file_extension": ".py",
      "mimetype": "text/x-python",
      "name": "python",
      "nbconvert_exporter": "python",
      "pygments_lexer": "ipython3",
      "version": "3.5.0"
    }
  },
  "nbformat": 4,
  "nbformat_minor": 0
}
