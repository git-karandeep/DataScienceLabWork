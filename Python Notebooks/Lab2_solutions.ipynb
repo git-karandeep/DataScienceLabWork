{
 "cells": [
  {
   "cell_type": "markdown",
   "metadata": {
    "colab_type": "text",
    "id": "ZQ-tHjsZ7uCa"
   },
   "source": [
    "# Lab 2 Solutions"
   ]
  },
  {
   "cell_type": "markdown",
   "metadata": {
    "colab_type": "text",
    "id": "miOhrnrV7uCc"
   },
   "source": [
    "### Question 1"
   ]
  },
  {
   "cell_type": "markdown",
   "metadata": {
    "colab_type": "text",
    "id": "t9z_3Lgz7uCe"
   },
   "source": [
    "Provide a python program that takes 2 digits, (e.g. A,B) as input and returns a 2-dimensional array. The element value in the i-th row and j-th column of the array should be $i*j$.\n",
    "\n",
    "Note: $i=0,1,...,A-1;\\ j=0,1,...,B-1.$\n",
    "\n",
    "Example: Assume following inputs are given to the program:\n",
    "\n",
    "$3,5$\n",
    "\n",
    "Then, the output should be:\n",
    "\n",
    "$[[0, 0, 0, 0, 0], [0, 1, 2, 3, 4], [0, 2, 4, 6, 8]]$"
   ]
  },
  {
   "cell_type": "code",
   "execution_count": 1,
   "metadata": {
    "colab": {
     "base_uri": "https://localhost:8080/",
     "height": 35
    },
    "colab_type": "code",
    "executionInfo": {
     "elapsed": 518,
     "status": "ok",
     "timestamp": 1567646913040,
     "user": {
      "displayName": "Mucahit Cevik",
      "photoUrl": "",
      "userId": "13828359042816893838"
     },
     "user_tz": 240
    },
    "id": "YtXXEMOA7uCg",
    "outputId": "051bed72-5638-42db-fb46-f463340d845f"
   },
   "outputs": [
    {
     "name": "stdout",
     "output_type": "stream",
     "text": [
      "Enter your input:2,6\n",
      "[[0, 0, 0, 0, 0, 0], [0, 1, 2, 3, 4, 5]]\n"
     ]
    }
   ],
   "source": [
    "input_str = input(\"Enter your input:\")\n",
    "dimensions=[int(x) for x in input_str.split(',')]\n",
    "rowNum=dimensions[0]\n",
    "colNum=dimensions[1]\n",
    "multilist = [[0 for col in range(colNum)] for row in range(rowNum)]\n",
    "\n",
    "for row in range(rowNum):\n",
    "    for col in range(colNum):\n",
    "        multilist[row][col]= row*col\n",
    "\n",
    "print(multilist)"
   ]
  },
  {
   "cell_type": "markdown",
   "metadata": {},
   "source": [
    "### Question 2"
   ]
  },
  {
   "cell_type": "markdown",
   "metadata": {},
   "source": [
    "Given a dictionary, provide a python program that gets all the values from the dictionary and add it in a list but does not  add duplicates."
   ]
  },
  {
   "cell_type": "code",
   "execution_count": 23,
   "metadata": {},
   "outputs": [
    {
     "name": "stdout",
     "output_type": "stream",
     "text": [
      "unique_list [53, 47, 54, 52, 44]\n"
     ]
    }
   ],
   "source": [
    "ages  ={'john':47, 'faye':52, 'mark':47, 'april':44, 'may':52, 'jane':53, 'july':54, 'jim':44, 'sam':54}\n",
    "\n",
    "ageList = []\n",
    "for item in ages.values():\n",
    "    if item not in ageList:\n",
    "        ageList.append(item)\n",
    "print(\"unique_list\", ageList)"
   ]
  },
  {
   "cell_type": "markdown",
   "metadata": {},
   "source": [
    "### Question 3"
   ]
  },
  {
   "cell_type": "markdown",
   "metadata": {},
   "source": [
    "Provide a function which can generate and print a tuple where the value are square of numbers between provided two argument (integer) values (both included).\n",
    "\n",
    "Hint: \n",
    "\n",
    "Use tuple() to get a tuple from a list."
   ]
  },
  {
   "cell_type": "code",
   "execution_count": 1,
   "metadata": {},
   "outputs": [
    {
     "name": "stdout",
     "output_type": "stream",
     "text": [
      "(1, 4, 9, 16, 25, 36, 49, 64, 81, 100)\n"
     ]
    }
   ],
   "source": [
    "def printTuple(giLB, giUB):\n",
    "    my_list=[]\n",
    "    for i in range(giLB,giUB+1):\n",
    "        my_list.append(i**2)\n",
    "    print(tuple(my_list))\n",
    "\n",
    "printTuple(1,10)"
   ]
  },
  {
   "cell_type": "markdown",
   "metadata": {},
   "source": [
    "### Question 4"
   ]
  },
  {
   "cell_type": "markdown",
   "metadata": {},
   "source": [
    "A robot moves in a plane starting from the original point (0,0). The robot can move toward UP, DOWN, LEFT and RIGHT with a given steps. The trace of robot movement is shown as the following list: \n",
    "\n",
    "my_moves = [\"UP 5\", \"DOWN 3\", \"LEFT 3\", \"RIGHT 2\"]\n",
    "\n",
    "The numbers after the direction are steps. Provide a function with name get_distance_traveled that takes the list of movements as an argument and returns the distance from current position after a sequence of movements.\n",
    "\n",
    "Hint: print(get_distance_traveled(my_moves)) prints out 2.24"
   ]
  },
  {
   "cell_type": "code",
   "execution_count": 21,
   "metadata": {},
   "outputs": [
    {
     "name": "stdout",
     "output_type": "stream",
     "text": [
      "2.24\n"
     ]
    }
   ],
   "source": [
    "import math\n",
    "\n",
    "def get_distance_traveled(gvMoves):\n",
    "    \n",
    "    pos = [0,0]\n",
    "    for s in gvMoves:\n",
    "        \n",
    "        movement = s.split(\" \")\n",
    "        direction = movement[0]\n",
    "        steps = int(movement[1])\n",
    "        if direction==\"UP\":\n",
    "            pos[0]+=steps\n",
    "        elif direction==\"DOWN\":\n",
    "            pos[0]-=steps\n",
    "        elif direction==\"LEFT\":\n",
    "            pos[1]-=steps\n",
    "        elif direction==\"RIGHT\":\n",
    "            pos[1]+=steps\n",
    "        else:\n",
    "            pass\n",
    "\n",
    "    print(round(math.sqrt(pos[1]**2+pos[0]**2), 2))\n",
    "\n",
    "# my_moves = [\"UP 6\", \"RIGHT 4\", \"DOWN 3\"]\n",
    "my_moves = [\"UP 5\", \"DOWN 3\", \"LEFT 3\", \"RIGHT 2\"]\n",
    "\n",
    "get_distance_traveled(my_moves)"
   ]
  },
  {
   "cell_type": "code",
   "execution_count": null,
   "metadata": {},
   "outputs": [],
   "source": []
  }
 ],
 "metadata": {
  "colab": {
   "name": "Lab1_solutions.ipynb",
   "provenance": [],
   "version": "0.3.2"
  },
  "kernelspec": {
   "display_name": "Python 3",
   "language": "python",
   "name": "python3"
  },
  "language_info": {
   "codemirror_mode": {
    "name": "ipython",
    "version": 3
   },
   "file_extension": ".py",
   "mimetype": "text/x-python",
   "name": "python",
   "nbconvert_exporter": "python",
   "pygments_lexer": "ipython3",
   "version": "3.5.0"
  }
 },
 "nbformat": 4,
 "nbformat_minor": 1
}
