{
  "nbformat": 4,
  "nbformat_minor": 0,
  "metadata": {
    "@webio": {
      "lastCommId": null,
      "lastKernelId": null
    },
    "colab": {
      "name": "Lab4_answers.ipynb",
      "provenance": []
    },
    "kernelspec": {
      "display_name": "Python 3",
      "language": "python",
      "name": "python3"
    },
    "language_info": {
      "codemirror_mode": {
        "name": "ipython",
        "version": 3
      },
      "file_extension": ".py",
      "mimetype": "text/x-python",
      "name": "python",
      "nbconvert_exporter": "python",
      "pygments_lexer": "ipython3",
      "version": "3.5.4"
    }
  },
  "cells": [
    {
      "cell_type": "markdown",
      "metadata": {
        "id": "ZQ-tHjsZ7uCa"
      },
      "source": [
        "# Lab 4 Solutions"
      ]
    },
    {
      "cell_type": "markdown",
      "metadata": {
        "id": "G9ABkiCUxiEC"
      },
      "source": [
        "### Question 1"
      ]
    },
    {
      "cell_type": "markdown",
      "metadata": {
        "id": "nMruaWPExiEC"
      },
      "source": [
        "Define the following functions as lambdas, and assign them to variables:\n",
        "\n",
        "1. Take one parameter; return its square\n",
        "\n",
        "2. Take two parameters; return the square root of the sums of their squares\n",
        "\n",
        "3. Take any number of parameters; return their average\n",
        "\n",
        "4. Take a string parameter; return a string which contains the unique letters in the input string (in any order)"
      ]
    },
    {
      "cell_type": "code",
      "metadata": {
        "id": "Hc06hZdrxiEC",
        "outputId": "0f87bf91-364c-4dfc-c2b2-97314e33f57f"
      },
      "source": [
        "import math\n",
        "\n",
        "a = lambda x: x**2\n",
        "print(a(2))"
      ],
      "execution_count": null,
      "outputs": [
        {
          "output_type": "stream",
          "text": [
            "4\n"
          ],
          "name": "stdout"
        }
      ]
    },
    {
      "cell_type": "code",
      "metadata": {
        "id": "eu6QqMAMxiED",
        "outputId": "d13bd7ed-2a27-4f81-9c8f-d2e38f9f819c"
      },
      "source": [
        "b = lambda x, y: math.sqrt(x**2 + y**2)\n",
        "print(b(2,3))"
      ],
      "execution_count": null,
      "outputs": [
        {
          "output_type": "stream",
          "text": [
            "3.605551275463989\n"
          ],
          "name": "stdout"
        }
      ]
    },
    {
      "cell_type": "code",
      "metadata": {
        "id": "58ukJFZExiED",
        "outputId": "c9255d12-a0f5-4994-c46e-b4ebf3b4fdc9"
      },
      "source": [
        "c = lambda *args: sum(args)/len(args)\n",
        "print(c(2,4,5))"
      ],
      "execution_count": null,
      "outputs": [
        {
          "output_type": "stream",
          "text": [
            "3.6666666666666665\n"
          ],
          "name": "stdout"
        }
      ]
    },
    {
      "cell_type": "code",
      "metadata": {
        "id": "ySGNt046xiED",
        "outputId": "1b707b96-4dae-4a5c-e6d0-44f5e97638e4"
      },
      "source": [
        "d = lambda s: \"\".join(set(s))\n",
        "print(d(\"Hello\"))"
      ],
      "execution_count": null,
      "outputs": [
        {
          "output_type": "stream",
          "text": [
            "eoHl\n"
          ],
          "name": "stdout"
        }
      ]
    },
    {
      "cell_type": "markdown",
      "metadata": {
        "id": "sXIRsmxPxiED"
      },
      "source": [
        "### Question 2\r\n",
        "Write a function which takes a string which contains two words separated by any amount and type of whitespace, and returns a string in which the words are swapped around and the whitespace is preserved. Hint: use regular expressions where \\s detects the whitespaces in a string.\r\n",
        "\r\n",
        "Example: given \"$\\text{Hello$\\hspace{1cm}$ World}$\", return \"$\\text{World$\\hspace{1cm}$ Hello}$\""
      ]
    },
    {
      "cell_type": "code",
      "metadata": {
        "id": "Gk9xLSiFxiEE",
        "colab": {
          "base_uri": "https://localhost:8080/",
          "height": 35
        },
        "outputId": "98629186-0186-4085-e46f-ca5bbea33a63"
      },
      "source": [
        "import re\r\n",
        "\r\n",
        "my_string = \"Hello     World\"\r\n",
        "m = re.search(r\"(\\s+)\", my_string)\r\n",
        "str_whitespace = m.group(0)\r\n",
        "\r\n",
        "split_string = my_string.split(str_whitespace)\r\n",
        "split_string\r\n",
        "\r\n",
        "new_string = split_string[1] + str_whitespace + split_string[0]\r\n",
        "new_string"
      ],
      "execution_count": null,
      "outputs": [
        {
          "output_type": "execute_result",
          "data": {
            "application/vnd.google.colaboratory.intrinsic+json": {
              "type": "string"
            },
            "text/plain": [
              "'World     Hello'"
            ]
          },
          "metadata": {
            "tags": []
          },
          "execution_count": 1
        }
      ]
    },
    {
      "cell_type": "markdown",
      "metadata": {
        "id": "8I-uXIXixw_F"
      },
      "source": [
        "### Question 3\r\n",
        "Write a function called singleLetterCount. This function takes in two parameters (two strings). The first parameter should be a word and second should be a letter. The function returns the number of times that letter appears in the word. The function should be case insensitive (does not matter if the input is lowercase or uppercase). If the letter is not found in the word, the function should return 0."
      ]
    },
    {
      "cell_type": "code",
      "metadata": {
        "id": "7xGSU91kx01U",
        "colab": {
          "base_uri": "https://localhost:8080/"
        },
        "outputId": "a2212b72-6c8b-4eeb-fcf4-128b42247f60"
      },
      "source": [
        "def singleLetterCount(a,b):\r\n",
        "  a = a.lower()\r\n",
        "  count = 0\r\n",
        "  for i in a:\r\n",
        "    if i == b:\r\n",
        "      count+=1\r\n",
        "  return count\r\n",
        "singleLetterCount('mIssissippi', 'i')"
      ],
      "execution_count": 2,
      "outputs": [
        {
          "output_type": "execute_result",
          "data": {
            "text/plain": [
              "4"
            ]
          },
          "metadata": {
            "tags": []
          },
          "execution_count": 2
        }
      ]
    }
  ]
}