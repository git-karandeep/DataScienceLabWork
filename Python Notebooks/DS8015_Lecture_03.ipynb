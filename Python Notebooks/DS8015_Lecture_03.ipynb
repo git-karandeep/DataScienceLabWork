{
  "nbformat": 4,
  "nbformat_minor": 0,
  "metadata": {
    "colab": {
      "name": "DS8015 Lecture 03.ipynb",
      "provenance": [],
      "collapsed_sections": [
        "vhNqmQdb_l3N",
        "Eu8W-c4RCKem"
      ]
    },
    "kernelspec": {
      "name": "python3",
      "display_name": "Python 3"
    },
    "language_info": {
      "name": "python"
    }
  },
  "cells": [
    {
      "cell_type": "markdown",
      "source": [
        "# **Functions and Functional Programming**"
      ],
      "metadata": {
        "id": "uNYo7K0m_dSw"
      }
    },
    {
      "cell_type": "markdown",
      "source": [
        "##Basic Functions"
      ],
      "metadata": {
        "id": "vhNqmQdb_l3N"
      }
    },
    {
      "cell_type": "code",
      "source": [
        "def fn_name(param1, param2):\n",
        "  valueToCalculate = param1 * param2\n",
        "  return valueToCalculate"
      ],
      "metadata": {
        "id": "jjNyxQCq_eB1"
      },
      "execution_count": null,
      "outputs": []
    },
    {
      "cell_type": "code",
      "source": [
        "valueReturnedByFunction = fn_name(3, 7) # 3 and 7 are arguments sent to the function\n",
        "# The return value of the function is assigned to the variable\n",
        "print(valueReturnedByFunction)"
      ],
      "metadata": {
        "id": "ckkbstHwAJW5"
      },
      "execution_count": null,
      "outputs": []
    },
    {
      "cell_type": "code",
      "source": [
        "valueReturnedByFunction = fn_name(4, 9)\n",
        "print(valueReturnedByFunction)"
      ],
      "metadata": {
        "id": "5tHz5C_tALHB"
      },
      "execution_count": null,
      "outputs": []
    },
    {
      "cell_type": "markdown",
      "source": [
        "###Local Function Scope"
      ],
      "metadata": {
        "id": "fiwRENZQAlBP"
      }
    },
    {
      "cell_type": "code",
      "source": [
        "x = 2\n",
        "def foo(y):\n",
        "  z = 5\n",
        "  print(locals()) # Prints the variables defined in the function\n",
        "  print(globals()['x']) # Prints the global variables (only the x)\n",
        "  print(x, y, z) # Prints whatever variable the function can access\n",
        "  # The function obviously can access the global x variable"
      ],
      "metadata": {
        "id": "Jrrwv62AApLW"
      },
      "execution_count": 3,
      "outputs": []
    },
    {
      "cell_type": "code",
      "source": [
        "foo(3)"
      ],
      "metadata": {
        "colab": {
          "base_uri": "https://localhost:8080/"
        },
        "id": "YbIc7BsRAxts",
        "outputId": "bb0cb5ce-867a-40e9-9fc7-a47b33db18fd"
      },
      "execution_count": 4,
      "outputs": [
        {
          "output_type": "stream",
          "name": "stdout",
          "text": [
            "{'y': 3, 'z': 5}\n",
            "2\n",
            "2 3 5\n"
          ]
        }
      ]
    },
    {
      "cell_type": "code",
      "source": [
        "x = 2\n",
        "def foo(y):\n",
        "  x = 41\n",
        "  # We\"ve added an \"x\": 41 entry\n",
        "  # to the local symbol table\n",
        "  z = 5\n",
        "  print(locals())\n",
        "  print(globals()['x'])\n",
        "  print(x, y, z) #This uses the \"closest\" defined x "
      ],
      "metadata": {
        "id": "r10guTrdBWVp"
      },
      "execution_count": 6,
      "outputs": []
    },
    {
      "cell_type": "code",
      "source": [
        "foo(3)"
      ],
      "metadata": {
        "colab": {
          "base_uri": "https://localhost:8080/"
        },
        "id": "eqiSGKZnBiW3",
        "outputId": "e8123dde-607b-411b-d966-9452eee3fb14"
      },
      "execution_count": 7,
      "outputs": [
        {
          "output_type": "stream",
          "name": "stdout",
          "text": [
            "{'y': 3, 'x': 41, 'z': 5}\n",
            "2\n",
            "41 3 5\n"
          ]
        }
      ]
    },
    {
      "cell_type": "markdown",
      "source": [
        "###IF/FOR Scope"
      ],
      "metadata": {
        "id": "RmbqaEUyBxXL"
      }
    },
    {
      "cell_type": "code",
      "source": [
        "success = True\n",
        "if success:\n",
        "  desc = \"Winner!\"\n",
        "else:\n",
        "  desc = \"Loser :(\"\n",
        "print(desc) # desc defined inside an if statement but accessible outside of if"
      ],
      "metadata": {
        "colab": {
          "base_uri": "https://localhost:8080/"
        },
        "id": "TBWCdCNfB2Ip",
        "outputId": "8d8d3885-3f11-4d0b-9a43-acee773baff6"
      },
      "execution_count": 8,
      "outputs": [
        {
          "output_type": "stream",
          "name": "stdout",
          "text": [
            "Winner!\n"
          ]
        }
      ]
    },
    {
      "cell_type": "markdown",
      "source": [
        "##Default/Named Parameters"
      ],
      "metadata": {
        "id": "Eu8W-c4RCKem"
      }
    },
    {
      "cell_type": "code",
      "source": [
        "def ask_yn(prompt, retries=4, complaint=\"Enter Y/N\"):\n",
        "   '''Required param \"prompt\"\n",
        "      Optional param \"retries\" default to 4\n",
        "      Optional param \"complaint\" defaults to some message'''\n",
        "   for i in range(retries):\n",
        "      ok = input(prompt)\n",
        "      if ok in (\"Y\", \"y\"):\n",
        "         return True\n",
        "      if ok in (\"N\", \"n\"):\n",
        "        return False\n",
        "      print(complaint)\n",
        "   return False\n",
        "\n"
      ],
      "metadata": {
        "id": "cGENhmhwCVgC"
      },
      "execution_count": 10,
      "outputs": []
    },
    {
      "cell_type": "code",
      "source": [
        "#Call with only the mandatory argument\n",
        "ask_yn(\"Really quit?\")\n"
      ],
      "metadata": {
        "colab": {
          "base_uri": "https://localhost:8080/"
        },
        "id": "adZJMvcCDG8A",
        "outputId": "cb4abae7-737a-4620-9e70-80e05957b650"
      },
      "execution_count": 11,
      "outputs": [
        {
          "name": "stdout",
          "output_type": "stream",
          "text": [
            "Really quit?k\n",
            "Enter Y/N\n",
            "Really quit?Y\n"
          ]
        },
        {
          "output_type": "execute_result",
          "data": {
            "text/plain": [
              "True"
            ]
          },
          "metadata": {},
          "execution_count": 11
        }
      ]
    },
    {
      "cell_type": "code",
      "source": [
        "# Call with one keyword argument\n",
        "ask_yn(\"OK to overwrite the file?\", retries=2)\n"
      ],
      "metadata": {
        "colab": {
          "base_uri": "https://localhost:8080/"
        },
        "id": "No9XNGBQDrUS",
        "outputId": "fe34df0c-53b7-46f1-f2eb-526ac11273cd"
      },
      "execution_count": 12,
      "outputs": [
        {
          "name": "stdout",
          "output_type": "stream",
          "text": [
            "OK to overwrite the file?n\n"
          ]
        },
        {
          "output_type": "execute_result",
          "data": {
            "text/plain": [
              "False"
            ]
          },
          "metadata": {},
          "execution_count": 12
        }
      ]
    },
    {
      "cell_type": "code",
      "source": [
        "# Call with one keyword argument - in any order!\n",
        "ask_yn(\"Update status?\", complaint=\"Just Y/N\")\n"
      ],
      "metadata": {
        "colab": {
          "base_uri": "https://localhost:8080/"
        },
        "id": "VmeFgtO1DtN6",
        "outputId": "472b7935-4b40-4d8d-c374-cb55baffc5f5"
      },
      "execution_count": 15,
      "outputs": [
        {
          "name": "stdout",
          "output_type": "stream",
          "text": [
            "Update status?k\n",
            "Just Y/N\n",
            "Update status?y\n"
          ]
        },
        {
          "output_type": "execute_result",
          "data": {
            "text/plain": [
              "True"
            ]
          },
          "metadata": {},
          "execution_count": 15
        }
      ]
    },
    {
      "cell_type": "code",
      "source": [
        "# Call with all of the keyword arguments\n",
        "ask_yn(\"Send text?\", retries=2, complaint=\"Y/N please!\")"
      ],
      "metadata": {
        "colab": {
          "base_uri": "https://localhost:8080/"
        },
        "id": "HopOs1dmDuyp",
        "outputId": "e239cdeb-e4da-4897-9312-28c90449df60"
      },
      "execution_count": 14,
      "outputs": [
        {
          "output_type": "stream",
          "name": "stdout",
          "text": [
            "Send text?k\n",
            "Y/N please!\n",
            "Send text?k\n",
            "Y/N please!\n"
          ]
        },
        {
          "output_type": "execute_result",
          "data": {
            "text/plain": [
              "False"
            ]
          },
          "metadata": {},
          "execution_count": 14
        }
      ]
    },
    {
      "cell_type": "markdown",
      "source": [
        "Dead Parrot"
      ],
      "metadata": {
        "id": "Mg3sQkZoEbN0"
      }
    },
    {
      "cell_type": "code",
      "source": [
        "def parrot(voltage, state=\"a stiff\", action=\"voom\", type=\"Norwegian Blue\"):\n",
        "   print(\"-- This parrot wouldn't\", action, end=' ')\n",
        "   print(\"if you put\", voltage, \"volts through it.\")\n",
        "   print(\"-- Lovely plumage, the\", type)\n",
        "   print(\"-- It’s\", state, \"!\")"
      ],
      "metadata": {
        "id": "Nkoy_KH9EcTG"
      },
      "execution_count": 17,
      "outputs": []
    },
    {
      "cell_type": "code",
      "source": [
        "# 1 positional argument\n",
        "parrot(1000)\n"
      ],
      "metadata": {
        "colab": {
          "base_uri": "https://localhost:8080/"
        },
        "id": "imbrOFgcEwUY",
        "outputId": "60384365-eea8-4374-ac30-01755d4f4c3e"
      },
      "execution_count": 18,
      "outputs": [
        {
          "output_type": "stream",
          "name": "stdout",
          "text": [
            "-- This parrot wouldn't voom if you put 1000 volts through it.\n",
            "-- Lovely plumage, the Norwegian Blue\n",
            "-- It’s a stiff !\n"
          ]
        }
      ]
    },
    {
      "cell_type": "code",
      "source": [
        "# 1 keyword argument\n",
        "parrot(voltage=1000)\n"
      ],
      "metadata": {
        "colab": {
          "base_uri": "https://localhost:8080/"
        },
        "id": "Tok8qH_wE-RM",
        "outputId": "7acf3428-d038-418c-8e3c-ef0992af1718"
      },
      "execution_count": 19,
      "outputs": [
        {
          "output_type": "stream",
          "name": "stdout",
          "text": [
            "-- This parrot wouldn't voom if you put 1000 volts through it.\n",
            "-- Lovely plumage, the Norwegian Blue\n",
            "-- It’s a stiff !\n"
          ]
        }
      ]
    },
    {
      "cell_type": "code",
      "source": [
        "# 2 keyword arguments\n",
        "parrot(voltage=1000000, action=\"VOOOOOM\")\n"
      ],
      "metadata": {
        "colab": {
          "base_uri": "https://localhost:8080/"
        },
        "id": "v5PTRglnE_31",
        "outputId": "eb41085e-fd00-4b95-f5bf-78bfd615839c"
      },
      "execution_count": 20,
      "outputs": [
        {
          "output_type": "stream",
          "name": "stdout",
          "text": [
            "-- This parrot wouldn't VOOOOOM if you put 1000000 volts through it.\n",
            "-- Lovely plumage, the Norwegian Blue\n",
            "-- It’s a stiff !\n"
          ]
        }
      ]
    },
    {
      "cell_type": "code",
      "source": [
        "# 2 keyword arguments\n",
        "parrot(action=\"VOOOOOM\", voltage=1000000)\n"
      ],
      "metadata": {
        "colab": {
          "base_uri": "https://localhost:8080/"
        },
        "id": "jcgyYYx7FBQx",
        "outputId": "e35d2181-f163-4208-d545-b1bc9a4e27b7"
      },
      "execution_count": 21,
      "outputs": [
        {
          "output_type": "stream",
          "name": "stdout",
          "text": [
            "-- This parrot wouldn't VOOOOOM if you put 1000000 volts through it.\n",
            "-- Lovely plumage, the Norwegian Blue\n",
            "-- It’s a stiff !\n"
          ]
        }
      ]
    },
    {
      "cell_type": "code",
      "source": [
        "# 3 positional arguments\n",
        "parrot(\"a million\", \"bereft of life\", \"jump\")\n"
      ],
      "metadata": {
        "colab": {
          "base_uri": "https://localhost:8080/"
        },
        "id": "PPrm4EhLFCtD",
        "outputId": "026a553f-4805-4674-d385-47c3a7e2f42d"
      },
      "execution_count": 22,
      "outputs": [
        {
          "output_type": "stream",
          "name": "stdout",
          "text": [
            "-- This parrot wouldn't jump if you put a million volts through it.\n",
            "-- Lovely plumage, the Norwegian Blue\n",
            "-- It’s bereft of life !\n"
          ]
        }
      ]
    },
    {
      "cell_type": "code",
      "source": [
        "# 1 positional, 1 keyword\n",
        "parrot(\"a thousand\", state=\"pushing up the daisies\")"
      ],
      "metadata": {
        "colab": {
          "base_uri": "https://localhost:8080/"
        },
        "id": "XsVxaEt3FD-d",
        "outputId": "9ea4a8c1-c6b6-431f-ab04-cf51c1762f9f"
      },
      "execution_count": 23,
      "outputs": [
        {
          "output_type": "stream",
          "name": "stdout",
          "text": [
            "-- This parrot wouldn't voom if you put a thousand volts through it.\n",
            "-- Lovely plumage, the Norwegian Blue\n",
            "-- It’s pushing up the daisies !\n"
          ]
        }
      ]
    },
    {
      "cell_type": "markdown",
      "source": [
        "Invalid Calls"
      ],
      "metadata": {
        "id": "7lhy2_hQFgnK"
      }
    },
    {
      "cell_type": "code",
      "source": [
        "# required argument missing\n",
        "parrot()"
      ],
      "metadata": {
        "id": "TyAhAqnSFigk"
      },
      "execution_count": null,
      "outputs": []
    },
    {
      "cell_type": "code",
      "source": [
        "# non-keyword argument after a keyword argument\n",
        "parrot(voltage=5.0, \"dead\")\n"
      ],
      "metadata": {
        "id": "SYK-hnryFnMU"
      },
      "execution_count": null,
      "outputs": []
    },
    {
      "cell_type": "code",
      "source": [
        "# duplicate value for the same argument\n",
        "parrot(110, voltage=220)\n"
      ],
      "metadata": {
        "id": "lD5qtZZ-FrkW"
      },
      "execution_count": null,
      "outputs": []
    },
    {
      "cell_type": "code",
      "source": [
        "# unknown keyword argument\n",
        "parrot(actor=\"John Cleese\")"
      ],
      "metadata": {
        "id": "mQC4-1JEFtMl"
      },
      "execution_count": null,
      "outputs": []
    },
    {
      "cell_type": "markdown",
      "source": [
        "**Rules about function calls**\n",
        "* Keyword arguments must follow positional arguments\n",
        "* All keyword arguments must identify some parameter\n",
        "  * Even positional ones\n",
        "* No parameter may receive a value more than once"
      ],
      "metadata": {
        "id": "asd3bsm-F-Qu"
      }
    },
    {
      "cell_type": "code",
      "source": [
        "def fn(a):\n",
        "  print(a)\n",
        "\n",
        "fn(0, a=0) #Not allowed. Multiple values of 'a'"
      ],
      "metadata": {
        "id": "hjvnCjcAGNPO"
      },
      "execution_count": null,
      "outputs": []
    },
    {
      "cell_type": "markdown",
      "source": [
        "##Variadic Positional Arguments\n",
        "A parameter of form `*args` captures excess positional args\n",
        "* These excess arguments are bundled into an args tuple\n",
        "\n",
        "Why?\n",
        "* Call functions with any number of positional arguments\n",
        "* Capture all arguments to forward to another handler\n",
        "  * Used in subclasses, proxies, and decorators  \n",
        "\n",
        "Example:\n",
        "`print(*objects, sep=’ ’, end=’\\n’, file=..., flush=False)`"
      ],
      "metadata": {
        "id": "pLUOEMVcGgoT"
      }
    },
    {
      "cell_type": "markdown",
      "source": [
        "Suppose we want a product function that works as so:  \n",
        "`product(3, 5)` # => 15  \n",
        "`product(3, 4, 2)` # => 24  \n",
        "`product(3, 5, scale=10)` # => 150  "
      ],
      "metadata": {
        "id": "cUX47UYlHJSv"
      }
    },
    {
      "cell_type": "code",
      "source": [
        "# product accepts any number of arguments\n",
        "def product(*nums, scale=1): #Named parameters after *args are \"keyword only\" arguments\n",
        "   p = scale\n",
        "   for n in nums:\n",
        "      p *= n\n",
        "   return p"
      ],
      "metadata": {
        "id": "6LYiOI3xHaFR"
      },
      "execution_count": 29,
      "outputs": []
    },
    {
      "cell_type": "code",
      "source": [
        "product(3, 5)"
      ],
      "metadata": {
        "colab": {
          "base_uri": "https://localhost:8080/"
        },
        "id": "e6pNzRKeHf_y",
        "outputId": "579e53bc-4a14-473f-f919-bfc366888a0d"
      },
      "execution_count": 30,
      "outputs": [
        {
          "output_type": "execute_result",
          "data": {
            "text/plain": [
              "150"
            ]
          },
          "metadata": {},
          "execution_count": 30
        }
      ]
    },
    {
      "cell_type": "code",
      "source": [
        "product(3, 4, 2)"
      ],
      "metadata": {
        "id": "otbznmb_HkUj"
      },
      "execution_count": null,
      "outputs": []
    },
    {
      "cell_type": "code",
      "source": [
        "product(3, 5, scale=10)"
      ],
      "metadata": {
        "id": "pkkdWp9FHmGn"
      },
      "execution_count": null,
      "outputs": []
    },
    {
      "cell_type": "markdown",
      "source": [
        "Unpacking variadic positional arguments"
      ],
      "metadata": {
        "id": "qz8Ci3e-IFAQ"
      }
    },
    {
      "cell_type": "code",
      "source": [
        "# Suppose we want to find 2 * 3 * 5 * 7 * ... up to 100\n",
        "def is_prime(n): \n",
        "  pass # Some implementation\n",
        "\n",
        "# Extract all the primes\n",
        "primes = [number for number in range(2, 100) if is_prime(number)]\n",
        "# Now primes == [2, 3, 5, ...]\n",
        "\n",
        "print(product(*primes)) # equiv. to product(2, 3, 5, ...)\n",
        "\n",
        "# The syntax *seq unpacks a sequence into its constituent components"
      ],
      "metadata": {
        "id": "f0eMfMkSIIz7"
      },
      "execution_count": null,
      "outputs": []
    },
    {
      "cell_type": "markdown",
      "source": [
        "##Variadic Keyword Arguments  \n",
        "A parameter of the form `**kwargs` captures all excess keyword\n",
        "arguments\n",
        "* These excess arguments are bundled into a kwargs dict   \n",
        "\n",
        "Why?\n",
        "* Allow arbitrary named parameters, usually for configuration\n",
        "* Similar: capture all arguments to forward to another handler\n",
        "  * Used in subclasses, proxies, and decorators. \n",
        "\n",
        "Example: we want to call authorize like seen below  "
      ],
      "metadata": {
        "id": "4A2h47s2Iu2A"
      }
    },
    {
      "cell_type": "code",
      "source": [
        "authorize(\"If music be the food of love, play on.\",  \n",
        "          playwright=\"Shakespeare\",  \n",
        "          act=1,  \n",
        "          scene=1, \n",
        "          speaker=\"Duke Orsino\")"
      ],
      "metadata": {
        "id": "g_0WW4opJGuC"
      },
      "execution_count": null,
      "outputs": []
    },
    {
      "cell_type": "code",
      "source": [
        "def authorize(quote, **speaker_info):\n",
        "  print(\">\", quote)\n",
        "  print(\"-\" * (len(quote) + 2))\n",
        "  for k, v in speaker_info.items():\n",
        "    print(k, v, sep=\": \")"
      ],
      "metadata": {
        "id": "xoHY6Y72J261"
      },
      "execution_count": 32,
      "outputs": []
    },
    {
      "cell_type": "code",
      "source": [
        "speaker_info = {\"act\": 1,\n",
        "                \"scene\": 1,\n",
        "                \"speaker\": \"Duke Orsino\",\n",
        "                \"playwright\": \"Shakespeare\"\n",
        "                }\n",
        "info = {\"sonnet\": 18,\n",
        "        \"line\": 1,\n",
        "        \"author\": \"Shakespeare\"\n",
        "        }"
      ],
      "metadata": {
        "id": "AbJn-iTVKB7k"
      },
      "execution_count": 34,
      "outputs": []
    },
    {
      "cell_type": "code",
      "source": [
        "authorize(\"Shall I compare thee to a summer's day\", **info)"
      ],
      "metadata": {
        "colab": {
          "base_uri": "https://localhost:8080/"
        },
        "id": "dolPaX0QKqgk",
        "outputId": "ecb171dd-b569-43d1-aead-e952f08354ba"
      },
      "execution_count": 35,
      "outputs": [
        {
          "output_type": "stream",
          "name": "stdout",
          "text": [
            "> Shall I compare thee to a summer's day\n",
            "----------------------------------------\n",
            "sonnet: 18\n",
            "line: 1\n",
            "author: Shakespeare\n"
          ]
        }
      ]
    },
    {
      "cell_type": "code",
      "source": [
        "authorize(\"If music be the food of love, play on.\", **speaker_info)"
      ],
      "metadata": {
        "colab": {
          "base_uri": "https://localhost:8080/"
        },
        "id": "-4aNUQPNK383",
        "outputId": "d9e90a0a-ded9-4efe-d841-b0d7680ae57e"
      },
      "execution_count": 36,
      "outputs": [
        {
          "output_type": "stream",
          "name": "stdout",
          "text": [
            "> If music be the food of love, play on.\n",
            "----------------------------------------\n",
            "act: 1\n",
            "scene: 1\n",
            "speaker: Duke Orsino\n",
            "playwright: Shakespeare\n"
          ]
        }
      ]
    },
    {
      "cell_type": "markdown",
      "source": [
        "Complicated Example"
      ],
      "metadata": {
        "id": "FNMFKRafLI3I"
      }
    },
    {
      "cell_type": "code",
      "source": [
        "\"{0}{b}{1}{a}{0}{2}\".format(5, 8, 9, a='z', b='x')\n",
        "# args = (5, 8, 9)\n",
        "# kwargs = {'a':'z', 'b':'x'}"
      ],
      "metadata": {
        "colab": {
          "base_uri": "https://localhost:8080/",
          "height": 35
        },
        "id": "De6TACIOLKiA",
        "outputId": "d822a5e4-9bd6-49a2-d321-743536d2940c"
      },
      "execution_count": 38,
      "outputs": [
        {
          "output_type": "execute_result",
          "data": {
            "application/vnd.google.colaboratory.intrinsic+json": {
              "type": "string"
            },
            "text/plain": [
              "'5x8z59'"
            ]
          },
          "metadata": {},
          "execution_count": 38
        }
      ]
    },
    {
      "cell_type": "markdown",
      "source": [
        "Cute Trick: Unpacking Variadic Keyword Arguments"
      ],
      "metadata": {
        "id": "N-nwFsNrLtSE"
      }
    },
    {
      "cell_type": "code",
      "source": [
        "x = 3\n",
        "foo = \"fighter\"\n",
        "y = 4\n",
        "learn = 2, \"fly\"\n",
        "z = 5\n",
        "\n",
        "# The above definitions go to the local symbol table as if it is done like below\n",
        "# local_symbol_table = {\"x\": 3,\n",
        "#                       \"foo\": \"fighter\",\n",
        "#                       \"y\": 4,\n",
        "#                       \"learn\": (2, \"fly\"),\n",
        "#                       \"z\": 5\n",
        "#                       }\n"
      ],
      "metadata": {
        "id": "K-M_MRtdLzvr"
      },
      "execution_count": 40,
      "outputs": []
    },
    {
      "cell_type": "code",
      "source": [
        "print(\"{z}^2 = {x}^2 + {y}^2\".format(x=x, y=y, z=z))\n",
        "print(\"{z}^2 = {x}^2 + {y}^2\".format(**locals()))\n",
        "# Equivalent to .format(x=3, foo=\"fighter\", y=4, ...)"
      ],
      "metadata": {
        "colab": {
          "base_uri": "https://localhost:8080/"
        },
        "id": "rQI4C0YuMh6z",
        "outputId": "baa73e70-60ef-4d44-df78-bd608daff062"
      },
      "execution_count": 41,
      "outputs": [
        {
          "output_type": "stream",
          "name": "stdout",
          "text": [
            "5^2 = 3^2 + 4^2\n",
            "5^2 = 3^2 + 4^2\n"
          ]
        }
      ]
    },
    {
      "cell_type": "markdown",
      "source": [
        "Putting it all together (see lecture slides)"
      ],
      "metadata": {
        "id": "9sNTsMVuM5Cm"
      }
    },
    {
      "cell_type": "markdown",
      "source": [
        "##Lambda Functions\n",
        "Anonymous, on the fly, unnamed functions. \n",
        "\n",
        "Keyword lambda creates an anonymous function  \n",
        "Returns an expression  \n",
        "`lambda params: expr(params)`"
      ],
      "metadata": {
        "id": "vL7WrvXyNtVv"
      }
    },
    {
      "cell_type": "code",
      "source": [
        "# def binds a name to a function object\n",
        "def greet():\n",
        "  print(\"Hi!\")\n",
        "\n",
        "# lambda only creates a function object\n",
        "lambda val: val ** 2\n",
        "lambda x, y: x * y\n",
        "lambda pair: pair[0] * pair[1]\n",
        "\n",
        "(lambda x: x > 3)(4) # => True\n",
        "# Creates a function object and immediately call it"
      ],
      "metadata": {
        "colab": {
          "base_uri": "https://localhost:8080/"
        },
        "id": "10sg3M9kN9gk",
        "outputId": "45b6ee51-449c-42b6-cd5b-b010466c96cd"
      },
      "execution_count": 42,
      "outputs": [
        {
          "output_type": "execute_result",
          "data": {
            "text/plain": [
              "True"
            ]
          },
          "metadata": {},
          "execution_count": 42
        }
      ]
    },
    {
      "cell_type": "markdown",
      "source": [
        "###Using Lambdas"
      ],
      "metadata": {
        "id": "EDhK4kEtOKpj"
      }
    },
    {
      "cell_type": "code",
      "source": [
        "# Squares from 0**2 to 9**2\n",
        "map(lambda val: val ** 2, range(10))"
      ],
      "metadata": {
        "colab": {
          "base_uri": "https://localhost:8080/"
        },
        "id": "_d0xqw5SOOIG",
        "outputId": "ee75f7a5-591b-4fad-8d87-8432fae4c2e8"
      },
      "execution_count": 43,
      "outputs": [
        {
          "output_type": "execute_result",
          "data": {
            "text/plain": [
              "<map at 0x7f376125b210>"
            ]
          },
          "metadata": {},
          "execution_count": 43
        }
      ]
    },
    {
      "cell_type": "code",
      "source": [
        "# Tuples with positive second elements\n",
        "filter(lambda pair: pair[1] > 0, [(4,1), (3, -2), (8,0)])\n"
      ],
      "metadata": {
        "colab": {
          "base_uri": "https://localhost:8080/"
        },
        "id": "qUuq_yaaORqV",
        "outputId": "6db69111-b413-46d2-d536-5f98387927d2"
      },
      "execution_count": 44,
      "outputs": [
        {
          "output_type": "execute_result",
          "data": {
            "text/plain": [
              "<filter at 0x7f3761201710>"
            ]
          },
          "metadata": {},
          "execution_count": 44
        }
      ]
    },
    {
      "cell_type": "code",
      "source": [
        "# Sort a collection based on a custom function.\n",
        "sorted([(4,1), (3, -2), (8,0)], key=lambda pair: pair[1])\n"
      ],
      "metadata": {
        "colab": {
          "base_uri": "https://localhost:8080/"
        },
        "id": "dEDCHnH9OWxH",
        "outputId": "28d67db0-299b-4c58-fdaa-dc1559db1068"
      },
      "execution_count": 45,
      "outputs": [
        {
          "output_type": "execute_result",
          "data": {
            "text/plain": [
              "[(3, -2), (8, 0), (4, 1)]"
            ]
          },
          "metadata": {},
          "execution_count": 45
        }
      ]
    },
    {
      "cell_type": "code",
      "source": [
        "triple = lambda x: x * 3 # This is bad. Why?"
      ],
      "metadata": {
        "id": "wJmwQ0JyOZSf"
      },
      "execution_count": null,
      "outputs": []
    },
    {
      "cell_type": "markdown",
      "source": [
        "Why use lambdas?\n",
        "* Avoids defining lots of small, one-use, simple functions\n",
        "* Declutters your local namespace\n",
        "* Presents function implementation inline at the call site"
      ],
      "metadata": {
        "id": "3gzNZZKpOh8g"
      }
    }
  ]
}