{
  "nbformat": 4,
  "nbformat_minor": 0,
  "metadata": {
    "@webio": {
      "lastCommId": null,
      "lastKernelId": null
    },
    "colab": {
      "name": "Lab5_questions.ipynb",
      "provenance": []
    },
    "kernelspec": {
      "display_name": "Python 3",
      "language": "python",
      "name": "python3"
    },
    "language_info": {
      "codemirror_mode": {
        "name": "ipython",
        "version": 3
      },
      "file_extension": ".py",
      "mimetype": "text/x-python",
      "name": "python",
      "nbconvert_exporter": "python",
      "pygments_lexer": "ipython3",
      "version": "3.5.0"
    }
  },
  "cells": [
    {
      "cell_type": "markdown",
      "metadata": {
        "id": "ZQ-tHjsZ7uCa"
      },
      "source": [
        "# Lab 4 Questions"
      ]
    },
    {
      "cell_type": "markdown",
      "metadata": {
        "id": "c63CQzEzu2MM"
      },
      "source": [
        "$\\color{red}{\\text{RULES:}}$\n",
        "\n",
        "1) Work individually! \n",
        "\n",
        "2) You can use the lecture notes (that are posted on D2L), and other materials (e.g. books, web searches).\n"
      ]
    },
    {
      "cell_type": "markdown",
      "metadata": {
        "id": "yp8XFkJfu2MP"
      },
      "source": [
        "### Question 1"
      ]
    },
    {
      "cell_type": "markdown",
      "metadata": {
        "id": "IcBzC4fVHvhP"
      },
      "source": [
        "Pandas exercises:\r\n",
        "\r\n",
        "1. Write a python program using Pandas to create and display a one-dimensional array-like object containing an array of data.\r\n",
        "2. Write a python program using Pandas to convert a Panda module Series to Python list and print it's type. (Hint: use ds.tolist() to convert the pandas series ds to a list)\r\n",
        "3. Create a pandas dataframe called **my_df** with index as integer numbers between 0 to 10, first column (titled \"rnd_int\") as 10 integer random numbers between 10-25, second column (\"rnd_float\") as 10 random continuous numbers (not necessarily integer) between 15-40, and third column (\"rnd_strBool\") as 10 random string values that are either \"True\" or \"False\" (Hint: numpy.random.uniform(a,b,count) and numpy.random.randint(a,b,size=count) can be helpful)"
      ]
    },
    {
      "cell_type": "code",
      "metadata": {
        "id": "UY54Z96Pu2MP"
      },
      "source": [
        ""
      ],
      "execution_count": null,
      "outputs": []
    },
    {
      "cell_type": "code",
      "metadata": {
        "id": "_h6uaa7Iu2MQ"
      },
      "source": [
        ""
      ],
      "execution_count": null,
      "outputs": []
    },
    {
      "cell_type": "code",
      "metadata": {
        "id": "FBgZGvLuu2MQ"
      },
      "source": [
        ""
      ],
      "execution_count": null,
      "outputs": []
    },
    {
      "cell_type": "markdown",
      "metadata": {
        "id": "XOPSs22PIOK1"
      },
      "source": [
        "### Question 2"
      ]
    },
    {
      "cell_type": "markdown",
      "metadata": {
        "id": "XkrqFefeIP6Z"
      },
      "source": [
        "Consider the dataframe (df) provided below. Please perform the following tasks:\r\n",
        "\r\n",
        "(1.a) Write a Pandas program to replace all the NaN values with Zero's in a column of a dataframe.\r\n",
        "\r\n",
        "(1.b) Write a Pandas program to count the number of rows and columns of the df.\r\n",
        "\r\n",
        "(1.c) Write a Pandas program to group by the \"qualify\" column and get average score values in the rows. This should be done after replacing NaNs with zeros. A sample output is as follows:\r\n",
        "\r\n",
        "qualify\r\n",
        "\r\n",
        "no 5.2\r\n",
        "\r\n",
        "yes 16.5\r\n",
        "\r\n",
        "(1.d) Write a Pandas program to plot a histogram of scores (after replacing NaNs with zeros)"
      ]
    },
    {
      "cell_type": "code",
      "metadata": {
        "id": "OErx2fhTbxSd"
      },
      "source": [
        "import numpy as np\r\n",
        "import pandas as pd\r\n",
        "\r\n",
        "grade_data = {'name': ['Anastasia', 'Dima', 'Katherine', 'James', 'Emily', 'Michael', 'Matthew', 'Laura', 'Kevin', 'Jonas'],\r\n",
        "'score': [12.5, 9, 16.5, np.nan, 9, 20, 14.5, np.nan, 8, 19],\r\n",
        "'attempts': [1, 3, 2, 3, 2, 3, 1, 1, 2, 1],\r\n",
        "'qualify': ['yes', 'no', 'yes', 'no', 'no', 'yes', 'yes', 'no', 'no', 'yes']}\r\n",
        "df = pd.DataFrame(grade_data)"
      ],
      "execution_count": null,
      "outputs": []
    },
    {
      "cell_type": "code",
      "metadata": {
        "id": "OWuJI3xkIQ5I"
      },
      "source": [
        ""
      ],
      "execution_count": null,
      "outputs": []
    },
    {
      "cell_type": "code",
      "metadata": {
        "id": "0_gMnF2MIRiD"
      },
      "source": [
        ""
      ],
      "execution_count": null,
      "outputs": []
    },
    {
      "cell_type": "code",
      "metadata": {
        "id": "DM-0ioUaIRuT"
      },
      "source": [
        ""
      ],
      "execution_count": null,
      "outputs": []
    },
    {
      "cell_type": "code",
      "metadata": {
        "id": "J_YiZpPhISBQ"
      },
      "source": [
        ""
      ],
      "execution_count": null,
      "outputs": []
    }
  ]
}