{
  "nbformat": 4,
  "nbformat_minor": 0,
  "metadata": {
    "colab": {
      "name": "DS8015 Lecture 04.ipynb",
      "provenance": [],
      "collapsed_sections": [
        "2R-xEP0hCcei",
        "OLfYMEDjDLZe",
        "CBbWmtzFDO8Z",
        "OOmTaEEnDlTU",
        "H2mIJ_n8Cep6",
        "C_Cu1CQVIhrO",
        "Yf32d5FSMPM_",
        "amAtnlHRUSiC",
        "Pf5m34uiVVSM",
        "r-_KFAj9Vpwb",
        "DUQ741UWWuGB"
      ]
    },
    "kernelspec": {
      "name": "python3",
      "display_name": "Python 3"
    },
    "language_info": {
      "name": "python"
    }
  },
  "cells": [
    {
      "cell_type": "markdown",
      "source": [
        "# **Python Libraries**"
      ],
      "metadata": {
        "id": "8kQtT0M3CVXk"
      }
    },
    {
      "cell_type": "markdown",
      "source": [
        "## Imports  \n",
        "* Module: Smallest unit of code reusability. File containing Python definitions and statements\n",
        "* Package: Logical collection of modules. Often bundles large products and broad functionality\n",
        "* Standard Library: Collection of packages and modules. Distributed with Python by default\n",
        "* Script: Any Python code invoked as an executable. Usually from the command line"
      ],
      "metadata": {
        "id": "2R-xEP0hCcei"
      }
    },
    {
      "cell_type": "markdown",
      "source": [
        "### Importing from a module"
      ],
      "metadata": {
        "id": "OLfYMEDjDLZe"
      }
    },
    {
      "cell_type": "code",
      "source": [
        "# Import a module\n",
        "import math\n",
        "math.sqrt(16) # => 4\n"
      ],
      "metadata": {
        "colab": {
          "base_uri": "https://localhost:8080/"
        },
        "id": "zZLBqtH3C4zv",
        "outputId": "28dd1dcd-fa02-4349-c2d1-2794f444a9e0"
      },
      "execution_count": 57,
      "outputs": [
        {
          "output_type": "execute_result",
          "data": {
            "text/plain": [
              "4.0"
            ]
          },
          "metadata": {},
          "execution_count": 57
        }
      ]
    },
    {
      "cell_type": "code",
      "source": [
        "# Import symbols from a module into the local namespace\n",
        "from math import ceil, floor\n",
        "ceil(3.7) # => 4.0\n",
        "floor(3.7) # => 3.0\n"
      ],
      "metadata": {
        "colab": {
          "base_uri": "https://localhost:8080/"
        },
        "id": "NB7zv0jKC83l",
        "outputId": "6be2d2c2-cac8-44a2-a6ad-1228ea26aaa2"
      },
      "execution_count": 58,
      "outputs": [
        {
          "output_type": "execute_result",
          "data": {
            "text/plain": [
              "3"
            ]
          },
          "metadata": {},
          "execution_count": 58
        }
      ]
    },
    {
      "cell_type": "code",
      "source": [
        "# Bind a module symbols to a new local symbol\n",
        "from some_module import long_symbol_name as short_name\n",
        "# Any python file (including your own) can be a module\n",
        "from my_script import my_function, my_variable"
      ],
      "metadata": {
        "id": "HVqy64quC-7a"
      },
      "execution_count": null,
      "outputs": []
    },
    {
      "cell_type": "markdown",
      "source": [
        "### Importing from packages  \n"
      ],
      "metadata": {
        "id": "CBbWmtzFDO8Z"
      }
    },
    {
      "cell_type": "code",
      "source": [
        "# Packages give structure to modules\n",
        "import sound.effects.echo\n",
        "sound.effects.echo.echofilter(input, output)\n",
        "\n",
        "from sound.effects import echo\n",
        "echo.echofilter(input, output, delay=0.7, atten=4)\n",
        "\n",
        "from sound.effects.echo import echofilter\n",
        "echofilter(input, output, delay=0.7, atten=4)\n",
        "# A namespace, in a sense...\n",
        "#__init__.py can distinguish packages from normal directories"
      ],
      "metadata": {
        "id": "Vp6glEfnDYfG"
      },
      "execution_count": null,
      "outputs": []
    },
    {
      "cell_type": "markdown",
      "source": [
        "### Package import rules  \n"
      ],
      "metadata": {
        "id": "OOmTaEEnDlTU"
      }
    },
    {
      "cell_type": "markdown",
      "source": [
        "```\n",
        "# The item can be a submodule (or subpackage) of package\n",
        "from package import item\n",
        "# All but the last must be packages\n",
        "import item.subitem.subsubitem\n",
        "```  \n",
        "\n",
        "Import Conventions:\n",
        "* Imports go at the top of the file after header comment.\n",
        "  * Why? Clear dependencies, avoid conditional imports\n",
        "* Prefer `import ...` to `from ... import ...`\n",
        "  * Why? Explicit namespaces avoid name conflicts\n",
        "* Avoid `from ... import *`\n",
        "  * Why? Unclear what is being imported, strange behavior"
      ],
      "metadata": {
        "id": "zLtYCJ4FEi_o"
      }
    },
    {
      "cell_type": "markdown",
      "source": [
        "## The Standard Library"
      ],
      "metadata": {
        "id": "H2mIJ_n8Cep6"
      }
    },
    {
      "cell_type": "markdown",
      "source": [
        "### Collections"
      ],
      "metadata": {
        "id": "0bEuLR_hEsuZ"
      }
    },
    {
      "cell_type": "markdown",
      "source": [
        "#### namedtuple"
      ],
      "metadata": {
        "id": "yMz1aZ84EvZe"
      }
    },
    {
      "cell_type": "code",
      "source": [
        "# use to create tuple subclasses with NAMED FIELDS\n",
        "import collections\n",
        "Point = collections.namedtuple('Point', ['x', 'y'])\n",
        "\n",
        "AnotherTuple = collections.namedtuple(\"TupleName\", ['x', 'y', 'z'])\n",
        "\n"
      ],
      "metadata": {
        "id": "gna5m1-TE1f3"
      },
      "execution_count": 16,
      "outputs": []
    },
    {
      "cell_type": "code",
      "source": [
        "p = Point(11, 22) # positional arguments...\n",
        "q = Point(x=11, y=22) # or keyword arguments (or both!)\n",
        "\n",
        "k = AnotherTuple(2, 3, 4)\n"
      ],
      "metadata": {
        "id": "_myUBBbtFD12"
      },
      "execution_count": 17,
      "outputs": []
    },
    {
      "cell_type": "code",
      "source": [
        "# Fields are accessible by name! \"Readability counts.\"\n",
        "-p.x, 2 * p.y # => -11, 44\n"
      ],
      "metadata": {
        "colab": {
          "base_uri": "https://localhost:8080/"
        },
        "id": "3t2qx9-MFPz7",
        "outputId": "5dd931f8-82b5-4567-bbb9-2d79eca0c636"
      },
      "execution_count": 12,
      "outputs": [
        {
          "output_type": "execute_result",
          "data": {
            "text/plain": [
              "(-11, 44)"
            ]
          },
          "metadata": {},
          "execution_count": 12
        }
      ]
    },
    {
      "cell_type": "code",
      "source": [
        "# readable __repr__ with a name=value style\n",
        "print(p) # Point(x=11, y=22)\n"
      ],
      "metadata": {
        "colab": {
          "base_uri": "https://localhost:8080/"
        },
        "id": "479B4T-vFWaV",
        "outputId": "499c21bc-9fd3-4e6e-d8ea-d83b69a7cefa"
      },
      "execution_count": 18,
      "outputs": [
        {
          "output_type": "stream",
          "name": "stdout",
          "text": [
            "Point(x=11, y=22)\n"
          ]
        }
      ]
    },
    {
      "cell_type": "code",
      "source": [
        "print(k)"
      ],
      "metadata": {
        "colab": {
          "base_uri": "https://localhost:8080/"
        },
        "id": "jRl3L1MTH6QD",
        "outputId": "e352f762-17c9-4c09-c20c-2c3eb3c833c2"
      },
      "execution_count": 19,
      "outputs": [
        {
          "output_type": "stream",
          "name": "stdout",
          "text": [
            "TupleName(x=2, y=3, z=4)\n"
          ]
        }
      ]
    },
    {
      "cell_type": "code",
      "source": [
        "# Subscriptable, like regular tuples\n",
        "p[0] * p[1] # => 242\n"
      ],
      "metadata": {
        "colab": {
          "base_uri": "https://localhost:8080/"
        },
        "id": "tIYQhg9kFYZZ",
        "outputId": "5bcb0071-8a47-45f0-e206-6614c2e390c2"
      },
      "execution_count": 7,
      "outputs": [
        {
          "output_type": "execute_result",
          "data": {
            "text/plain": [
              "242"
            ]
          },
          "metadata": {},
          "execution_count": 7
        }
      ]
    },
    {
      "cell_type": "code",
      "source": [
        "# Unpackable, like regular tuples\n",
        "x, y = p # x == 11, y == 22\n"
      ],
      "metadata": {
        "id": "QHaoGniPFZ8Y"
      },
      "execution_count": 8,
      "outputs": []
    },
    {
      "cell_type": "code",
      "source": [
        "# Usually don’t need to unpack if attributes have names\n",
        "math.hypot(p.x - other.x, p.y - other.y) # raises error"
      ],
      "metadata": {
        "id": "Mbves0knFbz6"
      },
      "execution_count": null,
      "outputs": []
    },
    {
      "cell_type": "markdown",
      "source": [
        "An example of a tuple"
      ],
      "metadata": {
        "id": "rlfXfzckIK17"
      }
    },
    {
      "cell_type": "code",
      "source": [
        "# Can you guess the context of this code?\n",
        "p = (170, 0.1, 0.6)\n",
        "if p[1] >= 0.5:\n",
        "  print(\"Whew, that is bright!\")\n",
        "if p[2] >= 0.5:\n",
        "  print(\"Wow, that is light!\")\n",
        "# BAD!"
      ],
      "metadata": {
        "id": "7SLJgvrgIF-I"
      },
      "execution_count": null,
      "outputs": []
    },
    {
      "cell_type": "markdown",
      "source": [
        "Alternative implementation"
      ],
      "metadata": {
        "id": "QXMInY_UITsJ"
      }
    },
    {
      "cell_type": "code",
      "source": [
        "Color = collections.namedtuple(\"Color\",[\"hue\", \"saturation\", \"luminosity\"])\n",
        "pixel = Color(170, 0.1, 0.6)\n",
        "if pixel.saturation >= 0.5:\n",
        "  print(\"Whew, that is bright!\")\n",
        "if pixel.luminosity >= 0.5:\n",
        "  print(\"Wow, that is light!\")\n",
        "# GOOD!"
      ],
      "metadata": {
        "id": "46JhddgJIVBl"
      },
      "execution_count": null,
      "outputs": []
    },
    {
      "cell_type": "markdown",
      "source": [
        "#### defaultdict"
      ],
      "metadata": {
        "id": "C_Cu1CQVIhrO"
      }
    },
    {
      "cell_type": "markdown",
      "source": [
        "Dict subclass with factory function for missing values  \n",
        "**Have:**  \n",
        "`input_data = [('yellow', 1), ('blue', 2), ('yellow', 3), ('blue', 4), ('red', 1)]`  \n",
        "**Want:**  \n",
        "`output = {'blue': [2, 4], 'red': [1], 'yellow': [1, 3]}`"
      ],
      "metadata": {
        "id": "4uSqC7RhI4pD"
      }
    },
    {
      "cell_type": "markdown",
      "source": [
        "One Approach"
      ],
      "metadata": {
        "id": "4xs_nh3JJega"
      }
    },
    {
      "cell_type": "code",
      "source": [
        "input_data = [('yellow', 1), ('blue', 2), ('yellow', 3), ('blue', 4), ('red', 1)]\n",
        "# One approach\n",
        "output = {}\n",
        "for k, v in input_data:\n",
        "  if k not in output:\n",
        "    output[k] = []\n",
        "  output[k].append(v)\n",
        "print(output)\n",
        "# => {'blue': [2, 4], 'red': [1], 'yellow': [1, 3]}\n"
      ],
      "metadata": {
        "colab": {
          "base_uri": "https://localhost:8080/"
        },
        "id": "zEEH26-OJIsf",
        "outputId": "7699eae4-e134-4b17-cb6a-8ff14e5ec0dc"
      },
      "execution_count": 20,
      "outputs": [
        {
          "output_type": "stream",
          "name": "stdout",
          "text": [
            "{'yellow': [1, 3], 'blue': [2, 4], 'red': [1]}\n"
          ]
        }
      ]
    },
    {
      "cell_type": "markdown",
      "source": [
        "A Better Approach"
      ],
      "metadata": {
        "id": "ehIvRQk9Jgl3"
      }
    },
    {
      "cell_type": "code",
      "source": [
        "# accepts one argument - a zero-argument\n",
        "# factory function to supply missing keys\n",
        "output = collections.defaultdict(lambda: list())\n",
        "for k, v in input_data:\n",
        "  output[k].append(v) # When key is missing, go to the factory\n",
        "\n",
        "print(output)\n"
      ],
      "metadata": {
        "colab": {
          "base_uri": "https://localhost:8080/"
        },
        "id": "PTEvCRXIJijs",
        "outputId": "ffa4a3f4-5714-4adb-d493-99f49faf0779"
      },
      "execution_count": 21,
      "outputs": [
        {
          "output_type": "stream",
          "name": "stdout",
          "text": [
            "defaultdict(<function <lambda> at 0x7fdbc9dad0e0>, {'yellow': [1, 3], 'blue': [2, 4], 'red': [1]})\n"
          ]
        }
      ]
    },
    {
      "cell_type": "markdown",
      "source": [
        "Zero-Argument Callable"
      ],
      "metadata": {
        "id": "OssvNJxKKDtH"
      }
    },
    {
      "cell_type": "code",
      "source": [
        "# defaultdict with default value []\n",
        "collections.defaultdict(lambda: list())\n",
        "\n",
        "# equivalent to\n",
        "collections.defaultdict(list)\n",
        "\n",
        "# defaultdict with default value 0\n",
        "collections.defaultdict(lambda: 0)\n",
        "\n",
        "# equivalent to\n",
        "collections.defaultdict(int)"
      ],
      "metadata": {
        "id": "FoeF8NPIKFsa"
      },
      "execution_count": null,
      "outputs": []
    },
    {
      "cell_type": "markdown",
      "source": [
        "**Have:**  \n",
        "`s = ’mississippi’`  \n",
        "**Want:**  \n",
        "`d = {’i’: 4, ’p’: 2, ’m’: 1, ’s’: 4}`"
      ],
      "metadata": {
        "id": "dgOAihdbKOUh"
      }
    },
    {
      "cell_type": "code",
      "source": [
        "s = \"mississippi\"\n",
        "d = collections.defaultdict(int) # or... lambda: 0\n",
        "for letter in s:\n",
        "  d[letter] += 1\n",
        "\n",
        "print(d)\n"
      ],
      "metadata": {
        "id": "G-zA9pvKKNGT"
      },
      "execution_count": null,
      "outputs": []
    },
    {
      "cell_type": "code",
      "source": [
        "s = \"mississippi\"\n",
        "z = {}\n",
        "for letter in s:\n",
        "  z[letter] += 1\n",
        "\n",
        "print(z)"
      ],
      "metadata": {
        "colab": {
          "base_uri": "https://localhost:8080/",
          "height": 236
        },
        "id": "klgatoVPhUlP",
        "outputId": "bb0b1383-2fce-4eba-c799-b638a965327e"
      },
      "execution_count": 60,
      "outputs": [
        {
          "output_type": "error",
          "ename": "KeyError",
          "evalue": "ignored",
          "traceback": [
            "\u001b[0;31m---------------------------------------------------------------------------\u001b[0m",
            "\u001b[0;31mKeyError\u001b[0m                                  Traceback (most recent call last)",
            "\u001b[0;32m<ipython-input-60-4295a4040a87>\u001b[0m in \u001b[0;36m<module>\u001b[0;34m()\u001b[0m\n\u001b[1;32m      2\u001b[0m \u001b[0mz\u001b[0m \u001b[0;34m=\u001b[0m \u001b[0;34m{\u001b[0m\u001b[0;34m}\u001b[0m\u001b[0;34m\u001b[0m\u001b[0;34m\u001b[0m\u001b[0m\n\u001b[1;32m      3\u001b[0m \u001b[0;32mfor\u001b[0m \u001b[0mletter\u001b[0m \u001b[0;32min\u001b[0m \u001b[0ms\u001b[0m\u001b[0;34m:\u001b[0m\u001b[0;34m\u001b[0m\u001b[0;34m\u001b[0m\u001b[0m\n\u001b[0;32m----> 4\u001b[0;31m   \u001b[0mz\u001b[0m\u001b[0;34m[\u001b[0m\u001b[0mletter\u001b[0m\u001b[0;34m]\u001b[0m \u001b[0;34m+=\u001b[0m \u001b[0;36m1\u001b[0m\u001b[0;34m\u001b[0m\u001b[0;34m\u001b[0m\u001b[0m\n\u001b[0m\u001b[1;32m      5\u001b[0m \u001b[0;34m\u001b[0m\u001b[0m\n\u001b[1;32m      6\u001b[0m \u001b[0mprint\u001b[0m\u001b[0;34m(\u001b[0m\u001b[0mz\u001b[0m\u001b[0;34m)\u001b[0m\u001b[0;34m\u001b[0m\u001b[0;34m\u001b[0m\u001b[0m\n",
            "\u001b[0;31mKeyError\u001b[0m: 'm'"
          ]
        }
      ]
    },
    {
      "cell_type": "markdown",
      "source": [
        "#### Counter"
      ],
      "metadata": {
        "id": "Yf32d5FSMPM_"
      }
    },
    {
      "cell_type": "markdown",
      "source": [
        "Dict subclass for counting hashable objects  \n",
        "**Have:**  \n",
        "`s = ’mississippi’`  \n",
        "**Want:**  \n",
        "`d = {’i’: 4, ’p’: 2, ’m’: 1, ’s’: 4}`"
      ],
      "metadata": {
        "id": "T_zCKxG0KqXf"
      }
    },
    {
      "cell_type": "code",
      "source": [
        "s = \"mississippi\"\n",
        "count = collections.Counter(s)\n",
        "print(count)\n",
        "# => Counter({’i’: 4, ’m’: 1, ’p’: 2, ’s’: 4}) \n"
      ],
      "metadata": {
        "colab": {
          "base_uri": "https://localhost:8080/"
        },
        "id": "_S1ROpanKuOy",
        "outputId": "799307c6-9962-478c-eb7c-f0af54f0f8cd"
      },
      "execution_count": 23,
      "outputs": [
        {
          "output_type": "stream",
          "name": "stdout",
          "text": [
            "Counter({'i': 4, 's': 4, 'p': 2, 'm': 1})\n"
          ]
        }
      ]
    },
    {
      "cell_type": "code",
      "source": [
        "print(list(count.items()))\n",
        "# => [(’s’, 4), (’m’, 1), (’i’, 4), (’p’, 2)]"
      ],
      "metadata": {
        "colab": {
          "base_uri": "https://localhost:8080/"
        },
        "id": "GgwV1LpMLFZl",
        "outputId": "6a8284db-436a-4197-b5c0-3a1fb5210e72"
      },
      "execution_count": 24,
      "outputs": [
        {
          "output_type": "stream",
          "name": "stdout",
          "text": [
            "[('m', 1), ('i', 4), ('s', 4), ('p', 2)]\n"
          ]
        }
      ]
    },
    {
      "cell_type": "markdown",
      "source": [
        "Tally occurrences of words in a list  \n",
        "`colors = [’red’, ’blue’, ’red’, ’green’, ’blue’]`  \n"
      ],
      "metadata": {
        "id": "xfj9IEEpLMP_"
      }
    },
    {
      "cell_type": "code",
      "source": [
        "colors = ['red', 'blue', 'red', 'green', 'blue']"
      ],
      "metadata": {
        "id": "2L1WkBaPLrqm"
      },
      "execution_count": 25,
      "outputs": []
    },
    {
      "cell_type": "markdown",
      "source": [
        "One Approach"
      ],
      "metadata": {
        "id": "ID3Vq6i2Lv3P"
      }
    },
    {
      "cell_type": "code",
      "source": [
        "counter = collections.Counter()\n",
        "for color in colors:\n",
        "  counter[color] += 1\n",
        "print(counter)\n",
        "# Counter({’blue’: 2, ’green’: 1, ’red’: 2})"
      ],
      "metadata": {
        "colab": {
          "base_uri": "https://localhost:8080/"
        },
        "id": "cke9gf88LNDV",
        "outputId": "4bc41f41-c985-4abb-a79f-736121dff96a"
      },
      "execution_count": 26,
      "outputs": [
        {
          "output_type": "stream",
          "name": "stdout",
          "text": [
            "Counter({'red': 2, 'blue': 2, 'green': 1})\n"
          ]
        }
      ]
    },
    {
      "cell_type": "markdown",
      "source": [
        "A Better Approach"
      ],
      "metadata": {
        "id": "xicXEL_xL5Kd"
      }
    },
    {
      "cell_type": "code",
      "source": [
        "counter = collections.Counter(colors)\n",
        "print(counter)\n"
      ],
      "metadata": {
        "colab": {
          "base_uri": "https://localhost:8080/"
        },
        "id": "EuSL7lPoL63-",
        "outputId": "af555576-78f9-478d-c299-08c0b041866d"
      },
      "execution_count": 27,
      "outputs": [
        {
          "output_type": "stream",
          "name": "stdout",
          "text": [
            "Counter({'red': 2, 'blue': 2, 'green': 1})\n"
          ]
        }
      ]
    },
    {
      "cell_type": "markdown",
      "source": [
        "Get most common elements"
      ],
      "metadata": {
        "id": "rE2r9ULrMXMJ"
      }
    },
    {
      "cell_type": "code",
      "source": [
        "collections.Counter(\"abracadabra\").most_common(3)\n",
        "# => [(’a’, 5), (’b’, 2), (’r’, 2)]\n",
        "\n"
      ],
      "metadata": {
        "id": "V6bbSWY0MZA2"
      },
      "execution_count": null,
      "outputs": []
    },
    {
      "cell_type": "code",
      "source": [
        "# Supports basic arithmetic\n",
        "collections.Counter(\"which\") + collections.Counter(\"witch\")\n",
        "# => Counter({’c’: 2, ’h’: 3, ’i’: 2, ’t’: 1, ’w’: 2})\n",
        "\n"
      ],
      "metadata": {
        "colab": {
          "base_uri": "https://localhost:8080/"
        },
        "id": "JbgT0i98Mq_7",
        "outputId": "15cfef33-90b5-4b3d-87a6-5c8cf376eba6"
      },
      "execution_count": 28,
      "outputs": [
        {
          "output_type": "execute_result",
          "data": {
            "text/plain": [
              "Counter({'c': 2, 'h': 3, 'i': 2, 't': 1, 'w': 2})"
            ]
          },
          "metadata": {},
          "execution_count": 28
        }
      ]
    },
    {
      "cell_type": "code",
      "source": [
        "collections.Counter(\"abracadabra\") - collections.Counter(\"alakazam\")\n",
        "# => Counter({’a’: 1, ’b’: 2, ’c’: 1, ’d’: 1, ’r’: 2})"
      ],
      "metadata": {
        "colab": {
          "base_uri": "https://localhost:8080/"
        },
        "id": "GfwsqdKZMsU_",
        "outputId": "b6ee08fd-9931-42aa-9a83-f329c3da0782"
      },
      "execution_count": 29,
      "outputs": [
        {
          "output_type": "execute_result",
          "data": {
            "text/plain": [
              "Counter({'a': 1, 'b': 2, 'c': 1, 'd': 1, 'r': 2})"
            ]
          },
          "metadata": {},
          "execution_count": 29
        }
      ]
    },
    {
      "cell_type": "markdown",
      "source": [
        "### Regular Expression   \n",
        "Regular expression operations  \n",
        "\"regular expression\" == \"search pattern\" for strings"
      ],
      "metadata": {
        "id": "vlhkw1DIM-BC"
      }
    },
    {
      "cell_type": "markdown",
      "source": [
        "Search for pattern match anywhere in string  \n",
        "return `None` if not found  \n",
        "`\\w` matches word characters  \n",
        "`+` is for one or more occurrences of preceding expression"
      ],
      "metadata": {
        "id": "tLzqrbq-NOJP"
      }
    },
    {
      "cell_type": "code",
      "source": [
        "import re\n",
        "m = re.search(r\"(\\w+) (\\w+)\", \"Isaac Newton, Physicist\")\n",
        "m.group(0) # \"Isaac Newton\" - the entire match\n",
        "m.group(1) # \"Isaac\" - first parenthesized subgroup\n",
        "m.group(2) # \"Newton\" - second parenthesized subgroup"
      ],
      "metadata": {
        "colab": {
          "base_uri": "https://localhost:8080/",
          "height": 35
        },
        "id": "Tg72wQ6cNcKu",
        "outputId": "aeab674c-1fbb-422e-b57a-6013db4443a0"
      },
      "execution_count": 31,
      "outputs": [
        {
          "output_type": "execute_result",
          "data": {
            "application/vnd.google.colaboratory.intrinsic+json": {
              "type": "string"
            },
            "text/plain": [
              "'Newton'"
            ]
          },
          "metadata": {},
          "execution_count": 31
        }
      ]
    },
    {
      "cell_type": "markdown",
      "source": [
        "Match pattern against start of string  \n",
        "return `None` if not found"
      ],
      "metadata": {
        "id": "wT7E92ZjNhEf"
      }
    },
    {
      "cell_type": "code",
      "source": [
        "m = re.match(r\"(?P<fname>\\w+) (?P<lname>\\w+)\", \"Jeff Fox\")\n",
        "m.group(\"fname\") # => ’Jeff’\n",
        "m.group(\"lname\") # => ’Fox’"
      ],
      "metadata": {
        "colab": {
          "base_uri": "https://localhost:8080/",
          "height": 35
        },
        "id": "hPZ9yxkNNjvN",
        "outputId": "cae68788-a231-48da-cc77-7477b3f7406e"
      },
      "execution_count": 32,
      "outputs": [
        {
          "output_type": "execute_result",
          "data": {
            "application/vnd.google.colaboratory.intrinsic+json": {
              "type": "string"
            },
            "text/plain": [
              "'Fox'"
            ]
          },
          "metadata": {},
          "execution_count": 32
        }
      ]
    },
    {
      "cell_type": "markdown",
      "source": [
        "Substitute occurrences of one pattern with another"
      ],
      "metadata": {
        "id": "sx367tXnN5Ko"
      }
    },
    {
      "cell_type": "code",
      "source": [
        "re.sub(r\"@\\w+\\.com\", \"@stanford.edu\", \"sam@go.com poohbear@bears.com\")\n",
        "# => sam@stanford.edu poohbear@stanford.edu"
      ],
      "metadata": {
        "id": "yBR_gYgGN5yX"
      },
      "execution_count": null,
      "outputs": []
    },
    {
      "cell_type": "markdown",
      "source": [
        "compile pattern for fast operations  \n",
        "`[a-z]`: Match any lowercase  \n",
        "`[0-9]`: Match any digit  \n",
        "`{3}`: match exactly three digits  "
      ],
      "metadata": {
        "id": "2BxwNHByOMUg"
      }
    },
    {
      "cell_type": "code",
      "source": [
        "pattern = re.compile(r'[a-z]+[0-9]{3}')\n",
        "# pattern is first argument\n",
        "match = re.search(pattern, '@@@abc123')\n",
        "match.span() # (3, 9)\n",
        "#span() Return a tuple containing the (start, end)\n",
        "# positions of the match"
      ],
      "metadata": {
        "colab": {
          "base_uri": "https://localhost:8080/"
        },
        "id": "lLz7sbY5OZ9w",
        "outputId": "dc2eab08-9a79-45bb-9435-ce18d46e4ff5"
      },
      "execution_count": 61,
      "outputs": [
        {
          "output_type": "execute_result",
          "data": {
            "text/plain": [
              "(3, 9)"
            ]
          },
          "metadata": {},
          "execution_count": 61
        }
      ]
    },
    {
      "cell_type": "markdown",
      "source": [
        "Write a regular expression to match a phone number like  \n",
        "650 867-5309  \n",
        "Hint: \\d captures [0-9], i.e. any digit  \n",
        "Hint: \\d{3} captures 3 consecutive digits"
      ],
      "metadata": {
        "id": "cIXXcqpZOj9w"
      }
    },
    {
      "cell_type": "code",
      "source": [
        "def is_phone(num):\n",
        "  return bool(re.match(\"\\d{3} \\d{3}-\\d{4}\", num))\n",
        "\n",
        "def get_area_code(num):\n",
        "  m = re.match(\"(?P<areacode>\\d{3}) \\d{3}-\\d{4}\", num)\n",
        "  if not m:\n",
        "    return None\n",
        "  return m.group('areacode')\n",
        "\n",
        "is_phone(\"650 867-5309\") # => True\n"
      ],
      "metadata": {
        "colab": {
          "base_uri": "https://localhost:8080/"
        },
        "id": "Bb0TVYjhOvhc",
        "outputId": "4ed9fd20-15da-419f-83c1-d404c36e0887"
      },
      "execution_count": 36,
      "outputs": [
        {
          "output_type": "execute_result",
          "data": {
            "text/plain": [
              "True"
            ]
          },
          "metadata": {},
          "execution_count": 36
        }
      ]
    },
    {
      "cell_type": "code",
      "source": [
        "is_phone(\"650.867.5309\") # => False\n"
      ],
      "metadata": {
        "colab": {
          "base_uri": "https://localhost:8080/"
        },
        "id": "A1PTjLexPI7j",
        "outputId": "e30bf77a-b2ec-4b2b-e723-1fbf27f8feee"
      },
      "execution_count": 34,
      "outputs": [
        {
          "output_type": "execute_result",
          "data": {
            "text/plain": [
              "False"
            ]
          },
          "metadata": {},
          "execution_count": 34
        }
      ]
    },
    {
      "cell_type": "code",
      "source": [
        "get_area_code(\"650 867-5309\") # => ’650’"
      ],
      "metadata": {
        "colab": {
          "base_uri": "https://localhost:8080/",
          "height": 35
        },
        "id": "w60dnrZiPKBW",
        "outputId": "0715013c-0ac3-4c10-c872-6ffea5e3b551"
      },
      "execution_count": 35,
      "outputs": [
        {
          "output_type": "execute_result",
          "data": {
            "application/vnd.google.colaboratory.intrinsic+json": {
              "type": "string"
            },
            "text/plain": [
              "'650'"
            ]
          },
          "metadata": {},
          "execution_count": 35
        }
      ]
    },
    {
      "cell_type": "markdown",
      "source": [
        "Find the three most common words in Hamlet"
      ],
      "metadata": {
        "id": "7IVZvZZ7PPcV"
      }
    },
    {
      "cell_type": "code",
      "source": [
        "with open('hamlet.txt') as f:\n",
        "  words = re.findall(r'\\w+', f.read().lower())\n",
        "collections.Counter(words).most_common(3)\n",
        "# => [('the', 1091), ('and', 969), ('to', 767)]\n"
      ],
      "metadata": {
        "colab": {
          "base_uri": "https://localhost:8080/"
        },
        "id": "gQ-WoR0aPV8D",
        "outputId": "e5bf02fa-4656-4866-9df1-bedabf020929"
      },
      "execution_count": 62,
      "outputs": [
        {
          "output_type": "execute_result",
          "data": {
            "text/plain": [
              "[('the', 1091), ('and', 969), ('to', 767)]"
            ]
          },
          "metadata": {},
          "execution_count": 62
        }
      ]
    },
    {
      "cell_type": "code",
      "source": [
        "with open('hamlet.txt') as f:\n",
        "  words = re.findall(r'\\w{5}', f.read().lower())\n",
        "collections.Counter(words).most_common(3)\n",
        "# => [('queen', 121), ('hamle', 117), ('there', 116)]"
      ],
      "metadata": {
        "colab": {
          "base_uri": "https://localhost:8080/"
        },
        "id": "Z88ZZxluPrIK",
        "outputId": "6b5ac811-9efc-4134-893b-5ac120e2753f"
      },
      "execution_count": 38,
      "outputs": [
        {
          "output_type": "execute_result",
          "data": {
            "text/plain": [
              "[('queen', 121), ('hamle', 117), ('there', 116)]"
            ]
          },
          "metadata": {},
          "execution_count": 38
        }
      ]
    },
    {
      "cell_type": "markdown",
      "source": [
        "###itertools  \n",
        "Iterators for efficient looping"
      ],
      "metadata": {
        "id": "_ZGnDBk0QZhg"
      }
    },
    {
      "cell_type": "code",
      "source": [
        "import itertools\n",
        "\n",
        "def view(it):\n",
        "  print(*map(''.join, it))\n",
        "\n"
      ],
      "metadata": {
        "id": "T58dp-yiQbxS"
      },
      "execution_count": 40,
      "outputs": []
    },
    {
      "cell_type": "code",
      "source": [
        "view(itertools.product(\"ABCD\", \"EFGH\"))\n",
        "# => AE AF AG AH BE BF BG BH CE CF CG CH DE DF DG DH\n"
      ],
      "metadata": {
        "colab": {
          "base_uri": "https://localhost:8080/"
        },
        "id": "6EDy148dQzYp",
        "outputId": "57e6afd1-0786-44b2-d702-fa0126c79344"
      },
      "execution_count": 42,
      "outputs": [
        {
          "output_type": "stream",
          "name": "stdout",
          "text": [
            "AE AF AG AH BE BF BG BH CE CF CG CH DE DF DG DH\n"
          ]
        }
      ]
    },
    {
      "cell_type": "code",
      "source": [
        "view(itertools.product(\"ABCD\", repeat=2))\n",
        "# => AA AB AC AD BA BB BC BD CA CB CC CD DA DB DC DD\n"
      ],
      "metadata": {
        "id": "DA0N1ptGQ1gr"
      },
      "execution_count": null,
      "outputs": []
    },
    {
      "cell_type": "code",
      "source": [
        "view(itertools.permutations(\"ABCD\", 2))\n",
        "# => AB AC AD BA BC BD CA CB CD DA DB DC\n"
      ],
      "metadata": {
        "id": "7cZ1gN9mQ35p"
      },
      "execution_count": null,
      "outputs": []
    },
    {
      "cell_type": "code",
      "source": [
        "view(itertools.combinations(\"ABCD\", 2))\n",
        "# => AB AC AD BC BD CD\n"
      ],
      "metadata": {
        "id": "VWCiV9cZQ5Tz"
      },
      "execution_count": null,
      "outputs": []
    },
    {
      "cell_type": "code",
      "source": [
        "view(itertools.combinations_with_replacement(\"ABCD\", 2))\n",
        "# => AA AB AC AD BB BC BD CC CD DD"
      ],
      "metadata": {
        "id": "gLRu1BhUQ6yA"
      },
      "execution_count": null,
      "outputs": []
    },
    {
      "cell_type": "markdown",
      "source": [
        "Infinite iterators"
      ],
      "metadata": {
        "id": "7zyBDOPnRGPA"
      }
    },
    {
      "cell_type": "code",
      "source": [
        "# start, [step] -> start, start + step, ...\n",
        "itertools.count(10) # -> 10, 11, 12, 13, 14, ..."
      ],
      "metadata": {
        "colab": {
          "base_uri": "https://localhost:8080/"
        },
        "id": "MUqSYylKRHc4",
        "outputId": "59fb7251-8e92-4c45-9054-726a56ed718b"
      },
      "execution_count": 43,
      "outputs": [
        {
          "output_type": "execute_result",
          "data": {
            "text/plain": [
              "count(10)"
            ]
          },
          "metadata": {},
          "execution_count": 43
        }
      ]
    },
    {
      "cell_type": "code",
      "source": [
        "# Cycle through elements of an iterable\n",
        "itertools.cycle(\"ABC\") # -> ’A’, ’B’, ’C’, ’A’, ...\n"
      ],
      "metadata": {
        "colab": {
          "base_uri": "https://localhost:8080/"
        },
        "id": "d3Hi1bb8ROGF",
        "outputId": "eeebe4bb-8b97-44e7-b1d9-ecd5ead77cad"
      },
      "execution_count": 44,
      "outputs": [
        {
          "output_type": "execute_result",
          "data": {
            "text/plain": [
              "<itertools.cycle at 0x7fdbc9da5af0>"
            ]
          },
          "metadata": {},
          "execution_count": 44
        }
      ]
    },
    {
      "cell_type": "code",
      "source": [
        "# Repeat a single element over and over.\n",
        "itertools.repeat(10) # -> 10, 10, 10, 10, ..."
      ],
      "metadata": {
        "colab": {
          "base_uri": "https://localhost:8080/"
        },
        "id": "8Y_RU6tbRPkI",
        "outputId": "cdc9d519-de45-4eec-964b-17c73dfb471e"
      },
      "execution_count": 45,
      "outputs": [
        {
          "output_type": "execute_result",
          "data": {
            "text/plain": [
              "repeat(10)"
            ]
          },
          "metadata": {},
          "execution_count": 45
        }
      ]
    },
    {
      "cell_type": "markdown",
      "source": [
        "###JSON  \n"
      ],
      "metadata": {
        "id": "lK0KdmdJSCFN"
      }
    },
    {
      "cell_type": "markdown",
      "source": [
        "```\n",
        "import json\n",
        "squares = {1:1, 2:4, 3:9, 4:16}\n",
        "# Serialize to/from string\n",
        "output = json.dumps(squares) # output == \"{1:1, 2:4, 3:9, 4:16}\"\n",
        "json.loads(output) # => {1:1, 2:4, 3:9, 4:16}\n",
        "\n",
        "# Serialize to/from file\n",
        "with open(’tmp.json’, ’w’) as outfile:\n",
        "  json.dump(squares, outfile)\n",
        "\n",
        "with open(’tmp.json’, ’r’) as infile:\n",
        "  input = json.load(infile)\n",
        "\n",
        "# All variants support useful keyword arguments\n",
        "json.dumps(data, indent=4, sort_keys=True, separators=(’,’, ’: ’))\n",
        "```"
      ],
      "metadata": {
        "id": "K56268A2SXWp"
      }
    },
    {
      "cell_type": "markdown",
      "source": [
        "### Random  \n",
        "Generate pseudo-random numbers"
      ],
      "metadata": {
        "id": "6y8keQWDSYc9"
      }
    },
    {
      "cell_type": "code",
      "source": [
        "import random\n",
        "# Random float x with 0.0 <= x < 1.0\n",
        "random.random()\n"
      ],
      "metadata": {
        "colab": {
          "base_uri": "https://localhost:8080/"
        },
        "id": "fHxVqydcSeN5",
        "outputId": "3d8104c9-15a9-4a92-a8a0-e3f724f49878"
      },
      "execution_count": 63,
      "outputs": [
        {
          "output_type": "execute_result",
          "data": {
            "text/plain": [
              "0.6409865983206653"
            ]
          },
          "metadata": {},
          "execution_count": 63
        }
      ]
    },
    {
      "cell_type": "code",
      "source": [
        "# Random float x, 1.0 <= x < 10.0\n",
        "random.uniform(1, 10) \n"
      ],
      "metadata": {
        "id": "HIXUHg5ISkWE"
      },
      "execution_count": null,
      "outputs": []
    },
    {
      "cell_type": "code",
      "source": [
        "# Random integer from 1 to 6 (inclusive)\n",
        "random.randint(1, 6) \n"
      ],
      "metadata": {
        "id": "9cKxcIkbSm2w"
      },
      "execution_count": null,
      "outputs": []
    },
    {
      "cell_type": "code",
      "source": [
        "# Random integer from 0 to 9 (inclusive)\n",
        "random.randrange(10)\n"
      ],
      "metadata": {
        "colab": {
          "base_uri": "https://localhost:8080/"
        },
        "id": "gex-i0_xSoUZ",
        "outputId": "d81a32ff-2a01-4bf4-f316-8a2e659e42ea"
      },
      "execution_count": 47,
      "outputs": [
        {
          "output_type": "execute_result",
          "data": {
            "text/plain": [
              "1"
            ]
          },
          "metadata": {},
          "execution_count": 47
        }
      ]
    },
    {
      "cell_type": "code",
      "source": [
        "# Random even integer from 0 to 100 (inclusive)\n",
        "random.randrange(0, 101, 2)\n"
      ],
      "metadata": {
        "colab": {
          "base_uri": "https://localhost:8080/"
        },
        "id": "wQPydohNSpvH",
        "outputId": "c1297dbc-5996-441d-d253-770f9fa1f1a4"
      },
      "execution_count": 48,
      "outputs": [
        {
          "output_type": "execute_result",
          "data": {
            "text/plain": [
              "16"
            ]
          },
          "metadata": {},
          "execution_count": 48
        }
      ]
    },
    {
      "cell_type": "code",
      "source": [
        "# Choose a single element\n",
        "random.choice(\"abcdefghij\") \n"
      ],
      "metadata": {
        "colab": {
          "base_uri": "https://localhost:8080/",
          "height": 35
        },
        "id": "Fc4L_AVGS0Jg",
        "outputId": "9932dca8-69a6-4541-a259-9b9d960229fc"
      },
      "execution_count": 69,
      "outputs": [
        {
          "output_type": "execute_result",
          "data": {
            "application/vnd.google.colaboratory.intrinsic+json": {
              "type": "string"
            },
            "text/plain": [
              "'i'"
            ]
          },
          "metadata": {},
          "execution_count": 69
        }
      ]
    },
    {
      "cell_type": "code",
      "source": [
        "items = [1, 2, 3, 4, 5, 6, 7]\n",
        "random.shuffle(items)\n",
        "items "
      ],
      "metadata": {
        "colab": {
          "base_uri": "https://localhost:8080/"
        },
        "id": "SGbTfiokS60I",
        "outputId": "05b3d5cb-d332-4fd6-9678-73c349d067cb"
      },
      "execution_count": 70,
      "outputs": [
        {
          "output_type": "execute_result",
          "data": {
            "text/plain": [
              "[7, 5, 1, 6, 3, 4, 2]"
            ]
          },
          "metadata": {},
          "execution_count": 70
        }
      ]
    },
    {
      "cell_type": "code",
      "source": [
        "\n",
        "# k samples without replacement\n",
        "random.sample(range(5), k=3)"
      ],
      "metadata": {
        "colab": {
          "base_uri": "https://localhost:8080/"
        },
        "id": "T1VzT_0ZS84e",
        "outputId": "a3676ed8-5495-4c08-d4f7-4ebb0e5af2c2"
      },
      "execution_count": 71,
      "outputs": [
        {
          "output_type": "execute_result",
          "data": {
            "text/plain": [
              "[4, 1, 0]"
            ]
          },
          "metadata": {},
          "execution_count": 71
        }
      ]
    },
    {
      "cell_type": "code",
      "source": [
        "# Sample from statistical distributions (others exist)\n",
        "random.normalvariate(mu=0, sigma=3)"
      ],
      "metadata": {
        "id": "y5ZtVTYYTBQ2"
      },
      "execution_count": null,
      "outputs": []
    },
    {
      "cell_type": "markdown",
      "source": [
        "### Builtin Functions"
      ],
      "metadata": {
        "id": "iHUqRvfHTJuZ"
      }
    },
    {
      "cell_type": "code",
      "source": [
        "any([True, True, False]) # => True\n"
      ],
      "metadata": {
        "id": "I2ihCk2gTO7W"
      },
      "execution_count": null,
      "outputs": []
    },
    {
      "cell_type": "code",
      "source": [
        "all([True, True, False]) # => False\n"
      ],
      "metadata": {
        "id": "ZmOczpYgTSFf"
      },
      "execution_count": null,
      "outputs": []
    },
    {
      "cell_type": "code",
      "source": [
        "int(\"45\") # => 45\n"
      ],
      "metadata": {
        "id": "CZxa0D5TTUqN"
      },
      "execution_count": null,
      "outputs": []
    },
    {
      "cell_type": "code",
      "source": [
        "int(\"0x2a\", 16) # => 42\n"
      ],
      "metadata": {
        "id": "aU1hNannThI7"
      },
      "execution_count": null,
      "outputs": []
    },
    {
      "cell_type": "code",
      "source": [
        "int(\"1011\", 2) # => 11\n"
      ],
      "metadata": {
        "id": "wWC7nVgVTjCa"
      },
      "execution_count": null,
      "outputs": []
    },
    {
      "cell_type": "code",
      "source": [
        "hex(42) # => \"0x2a\"\n"
      ],
      "metadata": {
        "id": "rXY3x9XJTkSY"
      },
      "execution_count": null,
      "outputs": []
    },
    {
      "cell_type": "code",
      "source": [
        "bin(42) # => \"0b101010\"\n"
      ],
      "metadata": {
        "id": "RkqmH_J5TlYV"
      },
      "execution_count": null,
      "outputs": []
    },
    {
      "cell_type": "code",
      "source": [
        "ord(\"a\") # => 97\n"
      ],
      "metadata": {
        "id": "jHaqm8etTmlV"
      },
      "execution_count": null,
      "outputs": []
    },
    {
      "cell_type": "code",
      "source": [
        "chr(97) # => \"a\"\n"
      ],
      "metadata": {
        "id": "3lv2ENv3ToNN"
      },
      "execution_count": null,
      "outputs": []
    },
    {
      "cell_type": "code",
      "source": [
        "round(123.45, 1) # => 123.4\n"
      ],
      "metadata": {
        "id": "-DvsJWrjTpMh"
      },
      "execution_count": null,
      "outputs": []
    },
    {
      "cell_type": "code",
      "source": [
        "round(123.45, -2) # => 100"
      ],
      "metadata": {
        "id": "itf4NBVgTqXj"
      },
      "execution_count": null,
      "outputs": []
    },
    {
      "cell_type": "code",
      "source": [
        "max(2, 3) # => 3\n",
        "max([0, 4, 1]) # => 4\n",
        "min([\"apple\", \"banana\", \"pear\"], key=len) # => \"pear\"\n"
      ],
      "metadata": {
        "id": "2794w6zQTt7x"
      },
      "execution_count": null,
      "outputs": []
    },
    {
      "cell_type": "code",
      "source": [
        "sum([3, 5, 7]) # => 15\n"
      ],
      "metadata": {
        "id": "zylw-TTHT1k9"
      },
      "execution_count": null,
      "outputs": []
    },
    {
      "cell_type": "code",
      "source": [
        "pow(3, 5) # => 243 (= 3 ** 5)\n",
        "pow(3, 5, 10) # => 3 (= (3 ** 5) % 10, efficiently)\n"
      ],
      "metadata": {
        "id": "D60GYV52T2zA"
      },
      "execution_count": null,
      "outputs": []
    },
    {
      "cell_type": "code",
      "source": [
        "quotient, remainder = divmod(10, 6)\n",
        "# quotient, remainder => (1, 4)\n"
      ],
      "metadata": {
        "id": "ZLrPT1OzT4q4"
      },
      "execution_count": null,
      "outputs": []
    },
    {
      "cell_type": "code",
      "source": [
        "# Flatten a list of lists (slower than itertools.chain)\n",
        "sum([[3, 5], [1, 7], [4]], []) # => [3, 5, 1, 7, 4]"
      ],
      "metadata": {
        "id": "4bKvVSHGT6ah"
      },
      "execution_count": null,
      "outputs": []
    },
    {
      "cell_type": "markdown",
      "source": [
        "Other Modules  \n",
        "(see slides)"
      ],
      "metadata": {
        "id": "VghskpdCUIyV"
      }
    },
    {
      "cell_type": "markdown",
      "source": [
        "## Third-Party Packages"
      ],
      "metadata": {
        "id": "SNYTsMG4Cgzk"
      }
    },
    {
      "cell_type": "markdown",
      "source": [
        "### NumPy  \n",
        "* N-dimensional array object\n",
        "* Sophisticated functions\n",
        "* Capabilities\n",
        "  * Linear algebra\n",
        "  * Fourier transform\n",
        "  * Random sampling  \n",
        "  \n",
        "NumPy Documentation: https://numpy.org/doc/ "
      ],
      "metadata": {
        "id": "amAtnlHRUSiC"
      }
    },
    {
      "cell_type": "code",
      "source": [
        "import numpy as np\n",
        "a = np.arange(15).reshape(3, 5)\n",
        "print(a)\n",
        "# array([[ 0, 1, 2, 3, 4],\n",
        "# [ 5, 6, 7, 8, 9],\n",
        "# [10, 11, 12, 13, 14]])\n"
      ],
      "metadata": {
        "colab": {
          "base_uri": "https://localhost:8080/"
        },
        "id": "69xAu6c-UxBj",
        "outputId": "dd149682-4651-4346-d4ae-8df6f3f35d84"
      },
      "execution_count": 50,
      "outputs": [
        {
          "output_type": "stream",
          "name": "stdout",
          "text": [
            "[[ 0  1  2  3  4]\n",
            " [ 5  6  7  8  9]\n",
            " [10 11 12 13 14]]\n"
          ]
        }
      ]
    },
    {
      "cell_type": "code",
      "source": [
        "a.shape # => (3, 5)\n"
      ],
      "metadata": {
        "colab": {
          "base_uri": "https://localhost:8080/"
        },
        "id": "scvCdwneU1U0",
        "outputId": "46d7906d-06f9-4b87-9a38-5720cd372a4b"
      },
      "execution_count": 51,
      "outputs": [
        {
          "output_type": "execute_result",
          "data": {
            "text/plain": [
              "(3, 5)"
            ]
          },
          "metadata": {},
          "execution_count": 51
        }
      ]
    },
    {
      "cell_type": "code",
      "source": [
        "a.ndim # => 2\n"
      ],
      "metadata": {
        "colab": {
          "base_uri": "https://localhost:8080/"
        },
        "id": "Qz0yjxZDU3UF",
        "outputId": "7654b018-4875-4e6e-a95e-e576da4a7914"
      },
      "execution_count": 52,
      "outputs": [
        {
          "output_type": "execute_result",
          "data": {
            "text/plain": [
              "2"
            ]
          },
          "metadata": {},
          "execution_count": 52
        }
      ]
    },
    {
      "cell_type": "code",
      "source": [
        "a.dtype.name # => ’int64’"
      ],
      "metadata": {
        "colab": {
          "base_uri": "https://localhost:8080/",
          "height": 35
        },
        "id": "e6J6pGDgU4b-",
        "outputId": "74034725-1d2f-4331-8f46-5027c2c23eaa"
      },
      "execution_count": 53,
      "outputs": [
        {
          "output_type": "execute_result",
          "data": {
            "application/vnd.google.colaboratory.intrinsic+json": {
              "type": "string"
            },
            "text/plain": [
              "'int64'"
            ]
          },
          "metadata": {},
          "execution_count": 53
        }
      ]
    },
    {
      "cell_type": "code",
      "source": [
        "\n",
        "type(a) # => numpy.ndarray"
      ],
      "metadata": {
        "colab": {
          "base_uri": "https://localhost:8080/"
        },
        "id": "zsuhhmLzU5uE",
        "outputId": "1e142b81-45e3-41ab-fb6e-fcb0a48a2c96"
      },
      "execution_count": 54,
      "outputs": [
        {
          "output_type": "execute_result",
          "data": {
            "text/plain": [
              "numpy.ndarray"
            ]
          },
          "metadata": {},
          "execution_count": 54
        }
      ]
    },
    {
      "cell_type": "code",
      "source": [
        "print(a[:, 1]) # => array([ 1, 6, 11])"
      ],
      "metadata": {
        "colab": {
          "base_uri": "https://localhost:8080/"
        },
        "id": "sC1tgecXU65H",
        "outputId": "6c6d1384-217e-4245-c34b-bfd8101e8136"
      },
      "execution_count": 55,
      "outputs": [
        {
          "output_type": "stream",
          "name": "stdout",
          "text": [
            "[ 1  6 11]\n"
          ]
        }
      ]
    },
    {
      "cell_type": "code",
      "source": [
        "a = np.array([3, 4, 5])\n",
        "a + 4 # => array([7, 8, 9])\n"
      ],
      "metadata": {
        "id": "7X0-lZEMVDsf"
      },
      "execution_count": null,
      "outputs": []
    },
    {
      "cell_type": "code",
      "source": [
        "a * 1.5 # => array([ 4.5, 6. , 7.5])\n"
      ],
      "metadata": {
        "id": "lhiekYLnVHPE"
      },
      "execution_count": null,
      "outputs": []
    },
    {
      "cell_type": "code",
      "source": [
        "a"
      ],
      "metadata": {
        "colab": {
          "base_uri": "https://localhost:8080/"
        },
        "id": "Jj1_ZxHCqWCZ",
        "outputId": "2d58a9d2-c0e6-4f1d-dd95-7f56c1819ce4"
      },
      "execution_count": 72,
      "outputs": [
        {
          "output_type": "execute_result",
          "data": {
            "text/plain": [
              "array([[ 0,  1,  2,  3,  4],\n",
              "       [ 5,  6,  7,  8,  9],\n",
              "       [10, 11, 12, 13, 14]])"
            ]
          },
          "metadata": {},
          "execution_count": 72
        }
      ]
    },
    {
      "cell_type": "code",
      "source": [
        "b = np.array([4, -1, 0])\n",
        "np.dot(a, b) # => 8 (= 3 * 4 + 4 * -1 + 5 * 0)\n"
      ],
      "metadata": {
        "id": "hftpTN94VI9T"
      },
      "execution_count": null,
      "outputs": []
    },
    {
      "cell_type": "code",
      "source": [
        "a.sum() # => 12\n"
      ],
      "metadata": {
        "colab": {
          "base_uri": "https://localhost:8080/"
        },
        "id": "5rx1yND2VKpi",
        "outputId": "a078ec33-c56f-4fca-a339-cb6319f3cd1a"
      },
      "execution_count": 74,
      "outputs": [
        {
          "output_type": "execute_result",
          "data": {
            "text/plain": [
              "105"
            ]
          },
          "metadata": {},
          "execution_count": 74
        }
      ]
    },
    {
      "cell_type": "code",
      "source": [
        "# 100 interpolated numbers between 0 and 6.28\n",
        "space = np.linspace(0, 2 * np.pi, 100)\n",
        "space"
      ],
      "metadata": {
        "colab": {
          "base_uri": "https://localhost:8080/"
        },
        "id": "V6WC1F_0VL85",
        "outputId": "028ee80a-5820-40d2-9f4d-b1cb4027760a"
      },
      "execution_count": 76,
      "outputs": [
        {
          "output_type": "execute_result",
          "data": {
            "text/plain": [
              "array([0.        , 0.06346652, 0.12693304, 0.19039955, 0.25386607,\n",
              "       0.31733259, 0.38079911, 0.44426563, 0.50773215, 0.57119866,\n",
              "       0.63466518, 0.6981317 , 0.76159822, 0.82506474, 0.88853126,\n",
              "       0.95199777, 1.01546429, 1.07893081, 1.14239733, 1.20586385,\n",
              "       1.26933037, 1.33279688, 1.3962634 , 1.45972992, 1.52319644,\n",
              "       1.58666296, 1.65012947, 1.71359599, 1.77706251, 1.84052903,\n",
              "       1.90399555, 1.96746207, 2.03092858, 2.0943951 , 2.15786162,\n",
              "       2.22132814, 2.28479466, 2.34826118, 2.41172769, 2.47519421,\n",
              "       2.53866073, 2.60212725, 2.66559377, 2.72906028, 2.7925268 ,\n",
              "       2.85599332, 2.91945984, 2.98292636, 3.04639288, 3.10985939,\n",
              "       3.17332591, 3.23679243, 3.30025895, 3.36372547, 3.42719199,\n",
              "       3.4906585 , 3.55412502, 3.61759154, 3.68105806, 3.74452458,\n",
              "       3.8079911 , 3.87145761, 3.93492413, 3.99839065, 4.06185717,\n",
              "       4.12532369, 4.1887902 , 4.25225672, 4.31572324, 4.37918976,\n",
              "       4.44265628, 4.5061228 , 4.56958931, 4.63305583, 4.69652235,\n",
              "       4.75998887, 4.82345539, 4.88692191, 4.95038842, 5.01385494,\n",
              "       5.07732146, 5.14078798, 5.2042545 , 5.26772102, 5.33118753,\n",
              "       5.39465405, 5.45812057, 5.52158709, 5.58505361, 5.64852012,\n",
              "       5.71198664, 5.77545316, 5.83891968, 5.9023862 , 5.96585272,\n",
              "       6.02931923, 6.09278575, 6.15625227, 6.21971879, 6.28318531])"
            ]
          },
          "metadata": {},
          "execution_count": 76
        }
      ]
    },
    {
      "cell_type": "code",
      "source": [
        "sinusoid = np.sin(space)\n",
        "# trigonometry - pi corresponds to 180 degrees"
      ],
      "metadata": {
        "id": "W2asx8r1q35W"
      },
      "execution_count": null,
      "outputs": []
    },
    {
      "cell_type": "markdown",
      "source": [
        "### SciPy  \n",
        "Everything you need for mathematics, science, and engineering  \n",
        "SciPy Documentation: https://docs.scipy.org/doc/scipy-1.8.0/html-scipyorg/reference/"
      ],
      "metadata": {
        "id": "Pf5m34uiVVSM"
      }
    },
    {
      "cell_type": "code",
      "source": [
        "import numpy as np\n",
        "from scipy import linalg\n",
        "\n",
        "# Invert a matrix\n",
        "A = np.array([[1, 2], [3, 4]])\n",
        "print(linalg.inv(A))\n"
      ],
      "metadata": {
        "id": "IffcPlFxVh0d"
      },
      "execution_count": null,
      "outputs": []
    },
    {
      "cell_type": "markdown",
      "source": [
        "### MatPlotLib + PyPlot  \n",
        "* Python 2D Plotting Library\n",
        "* Think MATLAB + Python  \n",
        "\n",
        "MatPlotLib Examples: https://matplotlib.org/2.0.2/examples/index.html  \n",
        "Gallery: https://matplotlib.org/2.0.2/gallery.html  \n",
        "\n",
        "Python Graph Galery (**you will like this**): https://www.python-graph-gallery.com/  "
      ],
      "metadata": {
        "id": "r-_KFAj9Vpwb"
      }
    },
    {
      "cell_type": "code",
      "source": [
        "import numpy as np\n",
        "import matplotlib.pyplot as plt\n",
        "\n",
        "N = 50\n",
        "x = np.random.rand(N)\n",
        "y = np.random.rand(N)\n",
        "colors = np.random.rand(N)\n",
        "area = np.pi * (15 * np.random.rand(N))**2\n",
        "\n",
        "plt.scatter(x, y, s=area, c=colors, alpha=0.5)\n",
        "plt.show()\n",
        "plt.savefig(\"scatter.png\") # comment out plt.show()"
      ],
      "metadata": {
        "colab": {
          "base_uri": "https://localhost:8080/",
          "height": 284
        },
        "id": "KJxVp30_WZXa",
        "outputId": "36bb79a7-3405-41ca-b520-ac21108168f3"
      },
      "execution_count": 56,
      "outputs": [
        {
          "output_type": "display_data",
          "data": {
            "image/png": "[encoded data removed]",
            "text/plain": [
              "<Figure size 432x288 with 1 Axes>"
            ]
          },
          "metadata": {
            "needs_background": "light"
          }
        },
        {
          "output_type": "display_data",
          "data": {
            "text/plain": [
              "<Figure size 432x288 with 0 Axes>"
            ]
          },
          "metadata": {}
        }
      ]
    },
    {
      "cell_type": "markdown",
      "source": [
        "### Some other Important Libraries and Packages\n",
        "* Tensorflow (Machine Learning): https://www.tensorflow.org/\n",
        "* Keras (High Level API): https://keras.io/ \n",
        "* Scikit-learn (Machine Learning): https://scikit-learn.org/stable/ \n",
        "* Nltk (Natural Language Toolkit): https://www.nltk.org/ \n",
        "* Pytorch (Deep Learning): https://pytorch.org/ \n",
        "* Pandas (Vectorized Data Manipulation): https://pandas.pydata.org/pandas-docs/stable/reference/index.html "
      ],
      "metadata": {
        "id": "DUQ741UWWuGB"
      }
    },
    {
      "cell_type": "code",
      "source": [
        ""
      ],
      "metadata": {
        "id": "F5imv6hqCUtF"
      },
      "execution_count": null,
      "outputs": []
    }
  ]
}