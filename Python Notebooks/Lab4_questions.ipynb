{
  "nbformat": 4,
  "nbformat_minor": 0,
  "metadata": {
    "@webio": {
      "lastCommId": null,
      "lastKernelId": null
    },
    "colab": {
      "name": "Lab4_questions.ipynb",
      "provenance": []
    },
    "kernelspec": {
      "display_name": "Python 3",
      "language": "python",
      "name": "python3"
    },
    "language_info": {
      "codemirror_mode": {
        "name": "ipython",
        "version": 3
      },
      "file_extension": ".py",
      "mimetype": "text/x-python",
      "name": "python",
      "nbconvert_exporter": "python",
      "pygments_lexer": "ipython3",
      "version": "3.5.0"
    }
  },
  "cells": [
    {
      "cell_type": "markdown",
      "metadata": {
        "id": "ZQ-tHjsZ7uCa"
      },
      "source": [
        "# Lab 4 Questions"
      ]
    },
    {
      "cell_type": "markdown",
      "metadata": {
        "id": "c63CQzEzu2MM"
      },
      "source": [
        "$\\color{red}{\\text{RULES:}}$\n",
        "\n",
        "1) Work individually! \n",
        "\n",
        "2) You can use the lecture notes (that are posted on D2L), and other materials (e.g. books, web searches).\n"
      ]
    },
    {
      "cell_type": "markdown",
      "metadata": {
        "id": "yp8XFkJfu2MP"
      },
      "source": [
        "### Question 1"
      ]
    },
    {
      "cell_type": "markdown",
      "metadata": {
        "id": "RVkjNRRvu2MP"
      },
      "source": [
        "Define the following functions as lambdas, and assign them to variables:\n",
        "\n",
        "1. Take one parameter; return its square\n",
        "\n",
        "2. Take two parameters; return the square root of the sums of their squares\n",
        "\n",
        "3. Take any number of parameters; return their average\n",
        "\n",
        "4. Take a string parameter; return a string which contains the unique letters in the input string (in any order)"
      ]
    },
    {
      "cell_type": "code",
      "metadata": {
        "id": "hXAq4kUgu2MP"
      },
      "source": [
        ""
      ],
      "execution_count": null,
      "outputs": []
    },
    {
      "cell_type": "code",
      "metadata": {
        "id": "UY54Z96Pu2MP"
      },
      "source": [
        ""
      ],
      "execution_count": null,
      "outputs": []
    },
    {
      "cell_type": "code",
      "metadata": {
        "id": "_h6uaa7Iu2MQ"
      },
      "source": [
        ""
      ],
      "execution_count": null,
      "outputs": []
    },
    {
      "cell_type": "code",
      "metadata": {
        "id": "FBgZGvLuu2MQ"
      },
      "source": [
        ""
      ],
      "execution_count": null,
      "outputs": []
    },
    {
      "cell_type": "markdown",
      "metadata": {
        "id": "TJXuNG7bvtiO"
      },
      "source": [
        "### Question 2\r\n",
        "Write a function which takes a string which contains two words separated by any amount and type of whitespace, and returns a string in which the words are swapped around and the whitespace is preserved. Hint: use regular expressions where \\s detects the whitespaces in a string.\r\n",
        "\r\n",
        "Example: given \"$\\text{Hello$\\hspace{1cm}$ World}$\", return \"$\\text{World$\\hspace{1cm}$ Hello}$\""
      ]
    },
    {
      "cell_type": "code",
      "metadata": {
        "id": "26RNKp6evw_-"
      },
      "source": [
        ""
      ],
      "execution_count": null,
      "outputs": []
    },
    {
      "cell_type": "markdown",
      "metadata": {
        "id": "hCUB5UJ2u2MQ"
      },
      "source": [
        "### Question 3\r\n",
        "Write a function called singleLetterCount. This function takes in two parameters (two strings). The first parameter should be a word and second should be a letter. The function returns the number of times that letter appears in the word. The function should be case insensitive (does not matter if the input is lowercase or uppercase). If the letter is not found in the word, the function should return 0."
      ]
    },
    {
      "cell_type": "code",
      "metadata": {
        "id": "FkyKCbfVxJKZ"
      },
      "source": [
        ""
      ],
      "execution_count": null,
      "outputs": []
    }
  ]
}